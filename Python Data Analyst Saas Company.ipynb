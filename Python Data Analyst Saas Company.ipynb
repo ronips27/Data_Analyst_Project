{
 "cells": [
  {
   "cell_type": "markdown",
   "id": "5528549b",
   "metadata": {},
   "source": [
    "# Introduction\n",
    "Software company that sells 14 types of software for various industrial needs (B2B) globally to various segments that want to increase profits by 2024."
   ]
  },
  {
   "cell_type": "markdown",
   "id": "2a459932",
   "metadata": {},
   "source": [
    "## Rumusan Masalah :\n",
    "Bagaimana cara mengurangi penjualan yang merugikan dan meningkatkan penjualan yang menguntungkan sehingga profit perusahaan dapat meningkat ditahun 2024"
   ]
  },
  {
   "cell_type": "markdown",
   "id": "856caf2e",
   "metadata": {},
   "source": [
    "## Data Preparation"
   ]
  },
  {
   "cell_type": "code",
   "execution_count": 2,
   "id": "91b014b4",
   "metadata": {},
   "outputs": [],
   "source": [
    "import pandas as pd\n",
    "import numpy as np\n",
    "import matplotlib.pyplot as plt\n",
    "import seaborn as sns\n",
    "import plotly.express as px"
   ]
  },
  {
   "cell_type": "markdown",
   "id": "d16fd291",
   "metadata": {},
   "source": [
    "Dataset ini berisi informasi terkait customer, region dan sales penjualan perusahaan selama 4 tahun kebelakang (2020 - 2023). Ada 19 kolom di dalam dataset SaaS_Sales, yaitu:\n",
    "\n",
    "1. Row ID: A unique identifier for each transaction.\n",
    "2. Order ID: A unique identifier for each order.\n",
    "3. Order Date: The date when the order was placed.\n",
    "4. Date Key: A numerical representation of the order date (YYYYMMDD).\n",
    "5. Contact Name: The name of the person who placed the order.\n",
    "6. Country: The country where the order was placed.\n",
    "7. City: The city where the order was placed.\n",
    "8. Region: The region where the order was placed.\n",
    "9. Subregion: The subregion where the order was placed.\n",
    "10. Customer: The name of the company that placed the order.\n",
    "11. Customer ID: A unique identifier for each customer.\n",
    "12. Industry: The industry the customer belongs to.\n",
    "13. Segment: The customer segment (SMB, Strategic, Enterprise, etc.).\n",
    "14. Product: The product was ordered.\n",
    "15. License: The license key for the product.\n",
    "16. Sales: The total sales amount for the transaction.\n",
    "17. Quantity: The total number of items in the transaction.\n",
    "18. Discount: The discount applied to the transaction.\n",
    "19. Profit: The profit from the transaction\n",
    "\n",
    "Berikut 5 baris teratas dan terbawah dari dataset SaaS_Sales."
   ]
  },
  {
   "cell_type": "code",
   "execution_count": 3,
   "id": "20838ec0",
   "metadata": {},
   "outputs": [
    {
     "data": {
      "text/html": [
       "<div>\n",
       "<style scoped>\n",
       "    .dataframe tbody tr th:only-of-type {\n",
       "        vertical-align: middle;\n",
       "    }\n",
       "\n",
       "    .dataframe tbody tr th {\n",
       "        vertical-align: top;\n",
       "    }\n",
       "\n",
       "    .dataframe thead th {\n",
       "        text-align: right;\n",
       "    }\n",
       "</style>\n",
       "<table border=\"1\" class=\"dataframe\">\n",
       "  <thead>\n",
       "    <tr style=\"text-align: right;\">\n",
       "      <th></th>\n",
       "      <th>Row ID</th>\n",
       "      <th>Order ID</th>\n",
       "      <th>Order Date</th>\n",
       "      <th>Date Key</th>\n",
       "      <th>Contact Name</th>\n",
       "      <th>Country</th>\n",
       "      <th>City</th>\n",
       "      <th>Region</th>\n",
       "      <th>Subregion</th>\n",
       "      <th>Customer</th>\n",
       "      <th>Customer ID</th>\n",
       "      <th>Industry</th>\n",
       "      <th>Segment</th>\n",
       "      <th>Product</th>\n",
       "      <th>License</th>\n",
       "      <th>Sales</th>\n",
       "      <th>Quantity</th>\n",
       "      <th>Discount</th>\n",
       "      <th>Profit</th>\n",
       "    </tr>\n",
       "  </thead>\n",
       "  <tbody>\n",
       "    <tr>\n",
       "      <th>0</th>\n",
       "      <td>1</td>\n",
       "      <td>EMEA-2022-152156</td>\n",
       "      <td>11/9/2022</td>\n",
       "      <td>20221109</td>\n",
       "      <td>Nathan Bell</td>\n",
       "      <td>Ireland</td>\n",
       "      <td>Dublin</td>\n",
       "      <td>EMEA</td>\n",
       "      <td>UKIR</td>\n",
       "      <td>Chevron</td>\n",
       "      <td>1017</td>\n",
       "      <td>Energy</td>\n",
       "      <td>SMB</td>\n",
       "      <td>Marketing Suite</td>\n",
       "      <td>16GRM07R1K</td>\n",
       "      <td>261.9600</td>\n",
       "      <td>2</td>\n",
       "      <td>0.00</td>\n",
       "      <td>41.9136</td>\n",
       "    </tr>\n",
       "    <tr>\n",
       "      <th>1</th>\n",
       "      <td>2</td>\n",
       "      <td>EMEA-2022-152156</td>\n",
       "      <td>11/9/2022</td>\n",
       "      <td>20221109</td>\n",
       "      <td>Nathan Bell</td>\n",
       "      <td>Ireland</td>\n",
       "      <td>Dublin</td>\n",
       "      <td>EMEA</td>\n",
       "      <td>UKIR</td>\n",
       "      <td>Chevron</td>\n",
       "      <td>1017</td>\n",
       "      <td>Energy</td>\n",
       "      <td>SMB</td>\n",
       "      <td>FinanceHub</td>\n",
       "      <td>QLIW57KZUV</td>\n",
       "      <td>731.9400</td>\n",
       "      <td>3</td>\n",
       "      <td>0.00</td>\n",
       "      <td>219.5820</td>\n",
       "    </tr>\n",
       "    <tr>\n",
       "      <th>2</th>\n",
       "      <td>3</td>\n",
       "      <td>AMER-2022-138688</td>\n",
       "      <td>6/13/2022</td>\n",
       "      <td>20220613</td>\n",
       "      <td>Deirdre Bailey</td>\n",
       "      <td>United States</td>\n",
       "      <td>New York City</td>\n",
       "      <td>AMER</td>\n",
       "      <td>NAMER</td>\n",
       "      <td>Phillips 66</td>\n",
       "      <td>1056</td>\n",
       "      <td>Energy</td>\n",
       "      <td>Strategic</td>\n",
       "      <td>FinanceHub</td>\n",
       "      <td>JI6BVL70HQ</td>\n",
       "      <td>14.6200</td>\n",
       "      <td>2</td>\n",
       "      <td>0.00</td>\n",
       "      <td>6.8714</td>\n",
       "    </tr>\n",
       "    <tr>\n",
       "      <th>3</th>\n",
       "      <td>4</td>\n",
       "      <td>EMEA-2021-108966</td>\n",
       "      <td>10/11/2021</td>\n",
       "      <td>20211011</td>\n",
       "      <td>Zoe Hodges</td>\n",
       "      <td>Germany</td>\n",
       "      <td>Stuttgart</td>\n",
       "      <td>EMEA</td>\n",
       "      <td>EU-WEST</td>\n",
       "      <td>Royal Dutch Shell</td>\n",
       "      <td>1031</td>\n",
       "      <td>Energy</td>\n",
       "      <td>SMB</td>\n",
       "      <td>ContactMatcher</td>\n",
       "      <td>DE9GJKGD44</td>\n",
       "      <td>957.5775</td>\n",
       "      <td>5</td>\n",
       "      <td>0.45</td>\n",
       "      <td>-383.0310</td>\n",
       "    </tr>\n",
       "    <tr>\n",
       "      <th>4</th>\n",
       "      <td>5</td>\n",
       "      <td>EMEA-2021-108966</td>\n",
       "      <td>10/11/2021</td>\n",
       "      <td>20211011</td>\n",
       "      <td>Zoe Hodges</td>\n",
       "      <td>Germany</td>\n",
       "      <td>Stuttgart</td>\n",
       "      <td>EMEA</td>\n",
       "      <td>EU-WEST</td>\n",
       "      <td>Royal Dutch Shell</td>\n",
       "      <td>1031</td>\n",
       "      <td>Energy</td>\n",
       "      <td>SMB</td>\n",
       "      <td>Marketing Suite - Gold</td>\n",
       "      <td>OIF7NY23WD</td>\n",
       "      <td>22.3680</td>\n",
       "      <td>2</td>\n",
       "      <td>0.20</td>\n",
       "      <td>2.5164</td>\n",
       "    </tr>\n",
       "  </tbody>\n",
       "</table>\n",
       "</div>"
      ],
      "text/plain": [
       "   Row ID          Order ID  Order Date  Date Key    Contact Name  \\\n",
       "0       1  EMEA-2022-152156   11/9/2022  20221109     Nathan Bell   \n",
       "1       2  EMEA-2022-152156   11/9/2022  20221109     Nathan Bell   \n",
       "2       3  AMER-2022-138688   6/13/2022  20220613  Deirdre Bailey   \n",
       "3       4  EMEA-2021-108966  10/11/2021  20211011      Zoe Hodges   \n",
       "4       5  EMEA-2021-108966  10/11/2021  20211011      Zoe Hodges   \n",
       "\n",
       "         Country           City Region Subregion           Customer  \\\n",
       "0        Ireland         Dublin   EMEA      UKIR            Chevron   \n",
       "1        Ireland         Dublin   EMEA      UKIR            Chevron   \n",
       "2  United States  New York City   AMER     NAMER        Phillips 66   \n",
       "3        Germany      Stuttgart   EMEA   EU-WEST  Royal Dutch Shell   \n",
       "4        Germany      Stuttgart   EMEA   EU-WEST  Royal Dutch Shell   \n",
       "\n",
       "   Customer ID Industry    Segment                 Product     License  \\\n",
       "0         1017   Energy        SMB         Marketing Suite  16GRM07R1K   \n",
       "1         1017   Energy        SMB              FinanceHub  QLIW57KZUV   \n",
       "2         1056   Energy  Strategic              FinanceHub  JI6BVL70HQ   \n",
       "3         1031   Energy        SMB          ContactMatcher  DE9GJKGD44   \n",
       "4         1031   Energy        SMB  Marketing Suite - Gold  OIF7NY23WD   \n",
       "\n",
       "      Sales  Quantity  Discount    Profit  \n",
       "0  261.9600         2      0.00   41.9136  \n",
       "1  731.9400         3      0.00  219.5820  \n",
       "2   14.6200         2      0.00    6.8714  \n",
       "3  957.5775         5      0.45 -383.0310  \n",
       "4   22.3680         2      0.20    2.5164  "
      ]
     },
     "metadata": {},
     "output_type": "display_data"
    },
    {
     "data": {
      "text/html": [
       "<div>\n",
       "<style scoped>\n",
       "    .dataframe tbody tr th:only-of-type {\n",
       "        vertical-align: middle;\n",
       "    }\n",
       "\n",
       "    .dataframe tbody tr th {\n",
       "        vertical-align: top;\n",
       "    }\n",
       "\n",
       "    .dataframe thead th {\n",
       "        text-align: right;\n",
       "    }\n",
       "</style>\n",
       "<table border=\"1\" class=\"dataframe\">\n",
       "  <thead>\n",
       "    <tr style=\"text-align: right;\">\n",
       "      <th></th>\n",
       "      <th>Row ID</th>\n",
       "      <th>Order ID</th>\n",
       "      <th>Order Date</th>\n",
       "      <th>Date Key</th>\n",
       "      <th>Contact Name</th>\n",
       "      <th>Country</th>\n",
       "      <th>City</th>\n",
       "      <th>Region</th>\n",
       "      <th>Subregion</th>\n",
       "      <th>Customer</th>\n",
       "      <th>Customer ID</th>\n",
       "      <th>Industry</th>\n",
       "      <th>Segment</th>\n",
       "      <th>Product</th>\n",
       "      <th>License</th>\n",
       "      <th>Sales</th>\n",
       "      <th>Quantity</th>\n",
       "      <th>Discount</th>\n",
       "      <th>Profit</th>\n",
       "    </tr>\n",
       "  </thead>\n",
       "  <tbody>\n",
       "    <tr>\n",
       "      <th>9989</th>\n",
       "      <td>9990</td>\n",
       "      <td>EMEA-2020-110422</td>\n",
       "      <td>1/22/2020</td>\n",
       "      <td>20200122</td>\n",
       "      <td>Dan Allan</td>\n",
       "      <td>Germany</td>\n",
       "      <td>Hamburg</td>\n",
       "      <td>EMEA</td>\n",
       "      <td>EU-WEST</td>\n",
       "      <td>Johnson &amp; Johnson</td>\n",
       "      <td>1055</td>\n",
       "      <td>Healthcare</td>\n",
       "      <td>SMB</td>\n",
       "      <td>SaaS Connector Pack</td>\n",
       "      <td>ETHXMB5TMD</td>\n",
       "      <td>25.248</td>\n",
       "      <td>3</td>\n",
       "      <td>0.2</td>\n",
       "      <td>4.1028</td>\n",
       "    </tr>\n",
       "    <tr>\n",
       "      <th>9990</th>\n",
       "      <td>9991</td>\n",
       "      <td>AMER-2023-121258</td>\n",
       "      <td>2/27/2023</td>\n",
       "      <td>20230227</td>\n",
       "      <td>Anthony Sanderson</td>\n",
       "      <td>United States</td>\n",
       "      <td>Milwaukee</td>\n",
       "      <td>AMER</td>\n",
       "      <td>NAMER</td>\n",
       "      <td>American Express</td>\n",
       "      <td>1005</td>\n",
       "      <td>Finance</td>\n",
       "      <td>SMB</td>\n",
       "      <td>SaaS Connector Pack</td>\n",
       "      <td>LYHOKTRY7L</td>\n",
       "      <td>91.960</td>\n",
       "      <td>2</td>\n",
       "      <td>0.0</td>\n",
       "      <td>15.6332</td>\n",
       "    </tr>\n",
       "    <tr>\n",
       "      <th>9991</th>\n",
       "      <td>9992</td>\n",
       "      <td>AMER-2023-121258</td>\n",
       "      <td>2/27/2023</td>\n",
       "      <td>20230227</td>\n",
       "      <td>Anthony Sanderson</td>\n",
       "      <td>United States</td>\n",
       "      <td>Milwaukee</td>\n",
       "      <td>AMER</td>\n",
       "      <td>NAMER</td>\n",
       "      <td>American Express</td>\n",
       "      <td>1005</td>\n",
       "      <td>Finance</td>\n",
       "      <td>SMB</td>\n",
       "      <td>Site Analytics</td>\n",
       "      <td>I5SVMI6M88</td>\n",
       "      <td>258.576</td>\n",
       "      <td>2</td>\n",
       "      <td>0.2</td>\n",
       "      <td>19.3932</td>\n",
       "    </tr>\n",
       "    <tr>\n",
       "      <th>9992</th>\n",
       "      <td>9993</td>\n",
       "      <td>AMER-2023-121258</td>\n",
       "      <td>2/27/2023</td>\n",
       "      <td>20230227</td>\n",
       "      <td>Anthony Sanderson</td>\n",
       "      <td>United States</td>\n",
       "      <td>Milwaukee</td>\n",
       "      <td>AMER</td>\n",
       "      <td>NAMER</td>\n",
       "      <td>American Express</td>\n",
       "      <td>1005</td>\n",
       "      <td>Finance</td>\n",
       "      <td>SMB</td>\n",
       "      <td>Support</td>\n",
       "      <td>JHLW4P6LQ2</td>\n",
       "      <td>29.600</td>\n",
       "      <td>4</td>\n",
       "      <td>0.0</td>\n",
       "      <td>13.3200</td>\n",
       "    </tr>\n",
       "    <tr>\n",
       "      <th>9993</th>\n",
       "      <td>9994</td>\n",
       "      <td>AMER-2023-119914</td>\n",
       "      <td>5/5/2023</td>\n",
       "      <td>20230505</td>\n",
       "      <td>Jasmine Springer</td>\n",
       "      <td>United States</td>\n",
       "      <td>Dallas</td>\n",
       "      <td>AMER</td>\n",
       "      <td>NAMER</td>\n",
       "      <td>Comcast</td>\n",
       "      <td>1022</td>\n",
       "      <td>Communications</td>\n",
       "      <td>SMB</td>\n",
       "      <td>OneView</td>\n",
       "      <td>3NTBV9B3PS</td>\n",
       "      <td>243.160</td>\n",
       "      <td>2</td>\n",
       "      <td>0.0</td>\n",
       "      <td>72.9480</td>\n",
       "    </tr>\n",
       "  </tbody>\n",
       "</table>\n",
       "</div>"
      ],
      "text/plain": [
       "      Row ID          Order ID Order Date  Date Key       Contact Name  \\\n",
       "9989    9990  EMEA-2020-110422  1/22/2020  20200122          Dan Allan   \n",
       "9990    9991  AMER-2023-121258  2/27/2023  20230227  Anthony Sanderson   \n",
       "9991    9992  AMER-2023-121258  2/27/2023  20230227  Anthony Sanderson   \n",
       "9992    9993  AMER-2023-121258  2/27/2023  20230227  Anthony Sanderson   \n",
       "9993    9994  AMER-2023-119914   5/5/2023  20230505   Jasmine Springer   \n",
       "\n",
       "            Country       City Region Subregion           Customer  \\\n",
       "9989        Germany    Hamburg   EMEA   EU-WEST  Johnson & Johnson   \n",
       "9990  United States  Milwaukee   AMER     NAMER   American Express   \n",
       "9991  United States  Milwaukee   AMER     NAMER   American Express   \n",
       "9992  United States  Milwaukee   AMER     NAMER   American Express   \n",
       "9993  United States     Dallas   AMER     NAMER            Comcast   \n",
       "\n",
       "      Customer ID        Industry Segment              Product     License  \\\n",
       "9989         1055      Healthcare     SMB  SaaS Connector Pack  ETHXMB5TMD   \n",
       "9990         1005         Finance     SMB  SaaS Connector Pack  LYHOKTRY7L   \n",
       "9991         1005         Finance     SMB       Site Analytics  I5SVMI6M88   \n",
       "9992         1005         Finance     SMB              Support  JHLW4P6LQ2   \n",
       "9993         1022  Communications     SMB              OneView  3NTBV9B3PS   \n",
       "\n",
       "        Sales  Quantity  Discount   Profit  \n",
       "9989   25.248         3       0.2   4.1028  \n",
       "9990   91.960         2       0.0  15.6332  \n",
       "9991  258.576         2       0.2  19.3932  \n",
       "9992   29.600         4       0.0  13.3200  \n",
       "9993  243.160         2       0.0  72.9480  "
      ]
     },
     "metadata": {},
     "output_type": "display_data"
    }
   ],
   "source": [
    "df = pd.read_csv('SaaS-Sales.csv')\n",
    "display(df.head(),df.tail())"
   ]
  },
  {
   "cell_type": "markdown",
   "id": "7ee78a74",
   "metadata": {},
   "source": [
    "## Data Understanding & Cleaning\n",
    "Sebelum masuk ke dalam analisis, kita perlu mengenal dataset kita lebih jauh dalam tahapan data understanding. Dari proses ini, kita akan tahu anomali-anomali apa saja yang terdapat di dalam dataset kita dan perlu ditangani dalam tahapan data cleaning. Setiap penangan anomali yang dilakukan, akan disertai dengan justifikasi langkah yang diambil, baik secara domain knowledge maupun secara statistik.\n",
    "\n",
    "Pertama, mari kita lihat informasi umur dari dataset SaaS_Sales."
   ]
  },
  {
   "cell_type": "code",
   "execution_count": 4,
   "id": "06577c6f",
   "metadata": {},
   "outputs": [
    {
     "name": "stdout",
     "output_type": "stream",
     "text": [
      "Jumlah baris dan kolom di dataset df adalah (9994, 19)\n",
      "<class 'pandas.core.frame.DataFrame'>\n",
      "RangeIndex: 9994 entries, 0 to 9993\n",
      "Data columns (total 19 columns):\n",
      " #   Column        Non-Null Count  Dtype  \n",
      "---  ------        --------------  -----  \n",
      " 0   Row ID        9994 non-null   int64  \n",
      " 1   Order ID      9994 non-null   object \n",
      " 2   Order Date    9994 non-null   object \n",
      " 3   Date Key      9994 non-null   int64  \n",
      " 4   Contact Name  9994 non-null   object \n",
      " 5   Country       9994 non-null   object \n",
      " 6   City          9994 non-null   object \n",
      " 7   Region        9994 non-null   object \n",
      " 8   Subregion     9994 non-null   object \n",
      " 9   Customer      9994 non-null   object \n",
      " 10  Customer ID   9994 non-null   int64  \n",
      " 11  Industry      9994 non-null   object \n",
      " 12  Segment       9994 non-null   object \n",
      " 13  Product       9994 non-null   object \n",
      " 14  License       9994 non-null   object \n",
      " 15  Sales         9994 non-null   float64\n",
      " 16  Quantity      9994 non-null   int64  \n",
      " 17  Discount      9994 non-null   float64\n",
      " 18  Profit        9994 non-null   float64\n",
      "dtypes: float64(3), int64(4), object(12)\n",
      "memory usage: 1.4+ MB\n"
     ]
    }
   ],
   "source": [
    "print(f'Jumlah baris dan kolom di dataset df adalah {df.shape}')\n",
    "df.info()"
   ]
  },
  {
   "cell_type": "code",
   "execution_count": 5,
   "id": "a835902d",
   "metadata": {},
   "outputs": [
    {
     "data": {
      "text/plain": [
       "0"
      ]
     },
     "execution_count": 5,
     "metadata": {},
     "output_type": "execute_result"
    }
   ],
   "source": [
    "df.isnull().any().any().sum()"
   ]
  },
  {
   "cell_type": "code",
   "execution_count": 6,
   "id": "c383283a",
   "metadata": {},
   "outputs": [
    {
     "name": "stdout",
     "output_type": "stream",
     "text": [
      "Jumlah total data duplikat: 0\n",
      "Data Duplikat:\n"
     ]
    },
    {
     "data": {
      "text/html": [
       "<div>\n",
       "<style scoped>\n",
       "    .dataframe tbody tr th:only-of-type {\n",
       "        vertical-align: middle;\n",
       "    }\n",
       "\n",
       "    .dataframe tbody tr th {\n",
       "        vertical-align: top;\n",
       "    }\n",
       "\n",
       "    .dataframe thead th {\n",
       "        text-align: right;\n",
       "    }\n",
       "</style>\n",
       "<table border=\"1\" class=\"dataframe\">\n",
       "  <thead>\n",
       "    <tr style=\"text-align: right;\">\n",
       "      <th></th>\n",
       "      <th>Row ID</th>\n",
       "      <th>Order ID</th>\n",
       "      <th>Order Date</th>\n",
       "      <th>Date Key</th>\n",
       "      <th>Contact Name</th>\n",
       "      <th>Country</th>\n",
       "      <th>City</th>\n",
       "      <th>Region</th>\n",
       "      <th>Subregion</th>\n",
       "      <th>Customer</th>\n",
       "      <th>Customer ID</th>\n",
       "      <th>Industry</th>\n",
       "      <th>Segment</th>\n",
       "      <th>Product</th>\n",
       "      <th>License</th>\n",
       "      <th>Sales</th>\n",
       "      <th>Quantity</th>\n",
       "      <th>Discount</th>\n",
       "      <th>Profit</th>\n",
       "    </tr>\n",
       "  </thead>\n",
       "  <tbody>\n",
       "  </tbody>\n",
       "</table>\n",
       "</div>"
      ],
      "text/plain": [
       "Empty DataFrame\n",
       "Columns: [Row ID, Order ID, Order Date, Date Key, Contact Name, Country, City, Region, Subregion, Customer, Customer ID, Industry, Segment, Product, License, Sales, Quantity, Discount, Profit]\n",
       "Index: []"
      ]
     },
     "execution_count": 6,
     "metadata": {},
     "output_type": "execute_result"
    }
   ],
   "source": [
    "duplicate_rows = df[df.duplicated()]\n",
    "\n",
    "# Menampilkan jumlah total data duplikat\n",
    "total_duplicate_rows = duplicate_rows.shape[0]\n",
    "print(\"Jumlah total data duplikat:\", total_duplicate_rows)\n",
    "\n",
    "# Menampilkan data duplikat\n",
    "print(\"Data Duplikat:\")\n",
    "duplicate_rows"
   ]
  },
  {
   "cell_type": "code",
   "execution_count": 7,
   "id": "1d46ba94",
   "metadata": {},
   "outputs": [
    {
     "data": {
      "text/html": [
       "<div>\n",
       "<style scoped>\n",
       "    .dataframe tbody tr th:only-of-type {\n",
       "        vertical-align: middle;\n",
       "    }\n",
       "\n",
       "    .dataframe tbody tr th {\n",
       "        vertical-align: top;\n",
       "    }\n",
       "\n",
       "    .dataframe thead th {\n",
       "        text-align: right;\n",
       "    }\n",
       "</style>\n",
       "<table border=\"1\" class=\"dataframe\">\n",
       "  <thead>\n",
       "    <tr style=\"text-align: right;\">\n",
       "      <th></th>\n",
       "      <th>Row ID</th>\n",
       "      <th>Date Key</th>\n",
       "      <th>Customer ID</th>\n",
       "      <th>Sales</th>\n",
       "      <th>Quantity</th>\n",
       "      <th>Discount</th>\n",
       "      <th>Profit</th>\n",
       "    </tr>\n",
       "  </thead>\n",
       "  <tbody>\n",
       "    <tr>\n",
       "      <th>count</th>\n",
       "      <td>9994.000000</td>\n",
       "      <td>9.994000e+03</td>\n",
       "      <td>9994.000000</td>\n",
       "      <td>9994.000000</td>\n",
       "      <td>9994.000000</td>\n",
       "      <td>9994.000000</td>\n",
       "      <td>9994.000000</td>\n",
       "    </tr>\n",
       "    <tr>\n",
       "      <th>mean</th>\n",
       "      <td>4997.500000</td>\n",
       "      <td>2.021803e+07</td>\n",
       "      <td>1049.771963</td>\n",
       "      <td>229.858001</td>\n",
       "      <td>3.789574</td>\n",
       "      <td>0.156203</td>\n",
       "      <td>28.656896</td>\n",
       "    </tr>\n",
       "    <tr>\n",
       "      <th>std</th>\n",
       "      <td>2885.163629</td>\n",
       "      <td>1.123898e+04</td>\n",
       "      <td>29.719388</td>\n",
       "      <td>623.245101</td>\n",
       "      <td>2.225110</td>\n",
       "      <td>0.206452</td>\n",
       "      <td>234.260108</td>\n",
       "    </tr>\n",
       "    <tr>\n",
       "      <th>min</th>\n",
       "      <td>1.000000</td>\n",
       "      <td>2.020010e+07</td>\n",
       "      <td>1001.000000</td>\n",
       "      <td>0.444000</td>\n",
       "      <td>1.000000</td>\n",
       "      <td>0.000000</td>\n",
       "      <td>-6599.978000</td>\n",
       "    </tr>\n",
       "    <tr>\n",
       "      <th>25%</th>\n",
       "      <td>2499.250000</td>\n",
       "      <td>2.021052e+07</td>\n",
       "      <td>1024.000000</td>\n",
       "      <td>17.280000</td>\n",
       "      <td>2.000000</td>\n",
       "      <td>0.000000</td>\n",
       "      <td>1.728750</td>\n",
       "    </tr>\n",
       "    <tr>\n",
       "      <th>50%</th>\n",
       "      <td>4997.500000</td>\n",
       "      <td>2.022063e+07</td>\n",
       "      <td>1049.000000</td>\n",
       "      <td>54.490000</td>\n",
       "      <td>3.000000</td>\n",
       "      <td>0.200000</td>\n",
       "      <td>8.666500</td>\n",
       "    </tr>\n",
       "    <tr>\n",
       "      <th>75%</th>\n",
       "      <td>7495.750000</td>\n",
       "      <td>2.023052e+07</td>\n",
       "      <td>1076.000000</td>\n",
       "      <td>209.940000</td>\n",
       "      <td>5.000000</td>\n",
       "      <td>0.200000</td>\n",
       "      <td>29.364000</td>\n",
       "    </tr>\n",
       "    <tr>\n",
       "      <th>max</th>\n",
       "      <td>9994.000000</td>\n",
       "      <td>2.023123e+07</td>\n",
       "      <td>1101.000000</td>\n",
       "      <td>22638.480000</td>\n",
       "      <td>14.000000</td>\n",
       "      <td>0.800000</td>\n",
       "      <td>8399.976000</td>\n",
       "    </tr>\n",
       "  </tbody>\n",
       "</table>\n",
       "</div>"
      ],
      "text/plain": [
       "            Row ID      Date Key  Customer ID         Sales     Quantity  \\\n",
       "count  9994.000000  9.994000e+03  9994.000000   9994.000000  9994.000000   \n",
       "mean   4997.500000  2.021803e+07  1049.771963    229.858001     3.789574   \n",
       "std    2885.163629  1.123898e+04    29.719388    623.245101     2.225110   \n",
       "min       1.000000  2.020010e+07  1001.000000      0.444000     1.000000   \n",
       "25%    2499.250000  2.021052e+07  1024.000000     17.280000     2.000000   \n",
       "50%    4997.500000  2.022063e+07  1049.000000     54.490000     3.000000   \n",
       "75%    7495.750000  2.023052e+07  1076.000000    209.940000     5.000000   \n",
       "max    9994.000000  2.023123e+07  1101.000000  22638.480000    14.000000   \n",
       "\n",
       "          Discount       Profit  \n",
       "count  9994.000000  9994.000000  \n",
       "mean      0.156203    28.656896  \n",
       "std       0.206452   234.260108  \n",
       "min       0.000000 -6599.978000  \n",
       "25%       0.000000     1.728750  \n",
       "50%       0.200000     8.666500  \n",
       "75%       0.200000    29.364000  \n",
       "max       0.800000  8399.976000  "
      ]
     },
     "metadata": {},
     "output_type": "display_data"
    },
    {
     "data": {
      "text/html": [
       "<div>\n",
       "<style scoped>\n",
       "    .dataframe tbody tr th:only-of-type {\n",
       "        vertical-align: middle;\n",
       "    }\n",
       "\n",
       "    .dataframe tbody tr th {\n",
       "        vertical-align: top;\n",
       "    }\n",
       "\n",
       "    .dataframe thead th {\n",
       "        text-align: right;\n",
       "    }\n",
       "</style>\n",
       "<table border=\"1\" class=\"dataframe\">\n",
       "  <thead>\n",
       "    <tr style=\"text-align: right;\">\n",
       "      <th></th>\n",
       "      <th>Order ID</th>\n",
       "      <th>Order Date</th>\n",
       "      <th>Contact Name</th>\n",
       "      <th>Country</th>\n",
       "      <th>City</th>\n",
       "      <th>Region</th>\n",
       "      <th>Subregion</th>\n",
       "      <th>Customer</th>\n",
       "      <th>Industry</th>\n",
       "      <th>Segment</th>\n",
       "      <th>Product</th>\n",
       "      <th>License</th>\n",
       "    </tr>\n",
       "  </thead>\n",
       "  <tbody>\n",
       "    <tr>\n",
       "      <th>count</th>\n",
       "      <td>9994</td>\n",
       "      <td>9994</td>\n",
       "      <td>9994</td>\n",
       "      <td>9994</td>\n",
       "      <td>9994</td>\n",
       "      <td>9994</td>\n",
       "      <td>9994</td>\n",
       "      <td>9994</td>\n",
       "      <td>9994</td>\n",
       "      <td>9994</td>\n",
       "      <td>9994</td>\n",
       "      <td>9994</td>\n",
       "    </tr>\n",
       "    <tr>\n",
       "      <th>unique</th>\n",
       "      <td>5009</td>\n",
       "      <td>1237</td>\n",
       "      <td>793</td>\n",
       "      <td>48</td>\n",
       "      <td>262</td>\n",
       "      <td>3</td>\n",
       "      <td>12</td>\n",
       "      <td>99</td>\n",
       "      <td>10</td>\n",
       "      <td>3</td>\n",
       "      <td>14</td>\n",
       "      <td>9994</td>\n",
       "    </tr>\n",
       "    <tr>\n",
       "      <th>top</th>\n",
       "      <td>EMEA-2023-100111</td>\n",
       "      <td>9/6/2022</td>\n",
       "      <td>Leonard Kelly</td>\n",
       "      <td>United States</td>\n",
       "      <td>London</td>\n",
       "      <td>EMEA</td>\n",
       "      <td>NAMER</td>\n",
       "      <td>Allianz</td>\n",
       "      <td>Finance</td>\n",
       "      <td>SMB</td>\n",
       "      <td>ContactMatcher</td>\n",
       "      <td>16GRM07R1K</td>\n",
       "    </tr>\n",
       "    <tr>\n",
       "      <th>freq</th>\n",
       "      <td>14</td>\n",
       "      <td>38</td>\n",
       "      <td>37</td>\n",
       "      <td>2001</td>\n",
       "      <td>922</td>\n",
       "      <td>4219</td>\n",
       "      <td>2507</td>\n",
       "      <td>192</td>\n",
       "      <td>2127</td>\n",
       "      <td>5191</td>\n",
       "      <td>1842</td>\n",
       "      <td>1</td>\n",
       "    </tr>\n",
       "  </tbody>\n",
       "</table>\n",
       "</div>"
      ],
      "text/plain": [
       "                Order ID Order Date   Contact Name        Country    City  \\\n",
       "count               9994       9994           9994           9994    9994   \n",
       "unique              5009       1237            793             48     262   \n",
       "top     EMEA-2023-100111   9/6/2022  Leonard Kelly  United States  London   \n",
       "freq                  14         38             37           2001     922   \n",
       "\n",
       "       Region Subregion Customer Industry Segment         Product     License  \n",
       "count    9994      9994     9994     9994    9994            9994        9994  \n",
       "unique      3        12       99       10       3              14        9994  \n",
       "top      EMEA     NAMER  Allianz  Finance     SMB  ContactMatcher  16GRM07R1K  \n",
       "freq     4219      2507      192     2127    5191            1842           1  "
      ]
     },
     "metadata": {},
     "output_type": "display_data"
    }
   ],
   "source": [
    "display(df.describe(), df.describe(include='object'))"
   ]
  },
  {
   "cell_type": "code",
   "execution_count": 8,
   "id": "15ef15e4",
   "metadata": {},
   "outputs": [
    {
     "name": "stderr",
     "output_type": "stream",
     "text": [
      "C:\\Users\\ASUS\\AppData\\Local\\Temp\\ipykernel_11876\\3657208298.py:1: FutureWarning: Passing a negative integer is deprecated in version 1.0 and will not be supported in future version. Instead, use None to not limit the column width.\n",
      "  pd.set_option('display.max_colwidth', -1)\n"
     ]
    },
    {
     "data": {
      "text/html": [
       "<div>\n",
       "<style scoped>\n",
       "    .dataframe tbody tr th:only-of-type {\n",
       "        vertical-align: middle;\n",
       "    }\n",
       "\n",
       "    .dataframe tbody tr th {\n",
       "        vertical-align: top;\n",
       "    }\n",
       "\n",
       "    .dataframe thead th {\n",
       "        text-align: right;\n",
       "    }\n",
       "</style>\n",
       "<table border=\"1\" class=\"dataframe\">\n",
       "  <thead>\n",
       "    <tr style=\"text-align: right;\">\n",
       "      <th></th>\n",
       "      <th>Column Name</th>\n",
       "      <th>Number of Unique</th>\n",
       "      <th>Unique Sample</th>\n",
       "    </tr>\n",
       "  </thead>\n",
       "  <tbody>\n",
       "    <tr>\n",
       "      <th>0</th>\n",
       "      <td>Row ID</td>\n",
       "      <td>9994</td>\n",
       "      <td>[1, 2, 3, 4, 5, 6, 7, 8, 9, 10, 11, 12, 13, 14, 15, 16, 17, 18, 19, 20, 21, 22, 23, 24, 25, 26, 27, 28, 29, 30, 31, 32, 33, 34, 35, 36, 37, 38, 39, 40, 41, 42, 43, 44, 45, 46, 47, 48, 49, 50, 51, 52, 53, 54, 55, 56, 57, 58, 59, 60, 61, 62, 63, 64, 65, 66, 67, 68, 69, 70, 71, 72, 73, 74, 75, 76, 77, 78, 79, 80, 81, 82, 83, 84, 85, 86, 87, 88, 89, 90, 91, 92, 93, 94, 95, 96, 97, 98, 99, 100, ...]</td>\n",
       "    </tr>\n",
       "    <tr>\n",
       "      <th>1</th>\n",
       "      <td>Order ID</td>\n",
       "      <td>5009</td>\n",
       "      <td>[EMEA-2022-152156, AMER-2022-138688, EMEA-2021-108966, AMER-2020-115812, EMEA-2023-114412, AMER-2022-161389, APJ-2021-118983, EMEA-2020-105893, EMEA-2020-167164, AMER-2020-143336, AMER-2022-137330, EMEA-2023-156909, EMEA-2021-106320, AMER-2022-121755, EMEA-2021-150630, APJ-2023-107727, APJ-2022-117590, APJ-2021-117415, APJ-2023-120999, AMER-2022-101343, EMEA-2023-139619, EMEA-2022-118255, AMER-2020-146703, APJ-2022-169194, APJ-2021-115742, EMEA-2022-105816, EMEA-2022-111682, AMER-2021-135545, APJ-2021-164175, AMER-2020-106376, EMEA-2022-119823, EMEA-2022-106075, AMER-2023-114440, EMEA-2021-134026, APJ-2023-118038, APJ-2020-147606, EMEA-2022-127208, AMER-2020-139451, EMEA-2021-149734, APJ-2023-119662, AMER-2023-140088, EMEA-2023-155558, APJ-2022-159695, AMER-2022-109806, EMEA-2021-149587, EMEA-2023-109484, EMEA-2023-161018, AMER-2023-157833, EMEA-2022-149223, APJ-2022-158568, EMEA-2022-129903, EMEA-2021-156867, EMEA-2023-119004, APJ-2021-129476, EMEA-2023-146780, EMEA-2022-128867, AMER-2020-115259, AMER-2021-110457, EMEA-2021-136476, APJ-2022-103730, APJ-2020-152030, APJ-2020-134614, AMER-2023-107272, AMER-2022-125969, AMER-2023-164147, AMER-2022-145583, EMEA-2022-110366, AMER-2023-106180, EMEA-2023-155376, AMER-2021-110744, AMER-2020-110072, EMEA-2022-114489, AMER-2022-158834, AMER-2021-124919, AMER-2021-118948, AMER-2020-104269, APJ-2022-114104, AMER-2022-162733, EMEA-2021-119697, APJ-2022-154508, AMER-2022-113817, APJ-2020-139892, AMER-2020-118962, APJ-2020-100853, APJ-2023-152366, AMER-2021-101511, EMEA-2021-137225, APJ-2020-166191, EMEA-2020-158274, EMEA-2022-105018, AMER-2020-123260, APJ-2022-157000, EMEA-2021-102281, AMER-2021-131457, AMER-2020-140004, AMER-2023-107720, EMEA-2023-124303, AMER-2023-105074, EMEA-2020-133690, APJ-2023-116701, ...]</td>\n",
       "    </tr>\n",
       "    <tr>\n",
       "      <th>2</th>\n",
       "      <td>Order Date</td>\n",
       "      <td>1237</td>\n",
       "      <td>[11/9/2022, 6/13/2022, 10/11/2021, 6/9/2020, 4/16/2023, 12/6/2022, 11/22/2021, 11/11/2020, 5/13/2020, 8/27/2020, 12/10/2022, 7/17/2023, 9/25/2021, 1/16/2022, 9/17/2021, 10/20/2023, 12/9/2022, 12/27/2021, 9/11/2023, 7/18/2022, 9/20/2023, 3/12/2022, 10/20/2020, 6/21/2022, 4/18/2021, 12/12/2022, 6/18/2022, 11/24/2021, 4/30/2021, 12/5/2020, 6/5/2022, 9/19/2022, 9/15/2023, 4/26/2021, 12/10/2023, 11/26/2020, 10/12/2020, 9/3/2021, 11/14/2023, 5/29/2023, 10/27/2023, 4/6/2022, 9/18/2022, 1/31/2021, 11/7/2023, 11/10/2023, 6/18/2023, 9/7/2022, 8/30/2022, 12/2/2022, 11/13/2021, 11/24/2023, 10/15/2021, 12/26/2023, 11/4/2022, 8/25/2020, 3/2/2021, 4/5/2021, 12/26/2020, 9/20/2020, 11/6/2023, 11/7/2022, 2/3/2023, 10/14/2022, 9/6/2022, 9/19/2023, 12/23/2023, 9/7/2021, 10/22/2020, 3/14/2022, 5/31/2021, 5/28/2021, 3/1/2020, 11/21/2022, 5/12/2022, 12/28/2021, 11/17/2022, 11/8/2022, 9/8/2020, 8/5/2020, 9/14/2020, 4/22/2023, 11/21/2021, 12/15/2021, 11/19/2020, 11/29/2022, 8/26/2020, 7/17/2022, 10/12/2021, 10/31/2021, 3/21/2020, 7/7/2023, 6/25/2023, 8/3/2020, 12/18/2023, 6/4/2023, 12/2/2023, 2/9/2021, 1/2/2021, 10/29/2022, ...]</td>\n",
       "    </tr>\n",
       "    <tr>\n",
       "      <th>3</th>\n",
       "      <td>Date Key</td>\n",
       "      <td>1237</td>\n",
       "      <td>[20221109, 20220613, 20211011, 20200609, 20230416, 20221206, 20211122, 20201111, 20200513, 20200827, 20221210, 20230717, 20210925, 20220116, 20210917, 20231020, 20221209, 20211227, 20230911, 20220718, 20230920, 20220312, 20201020, 20220621, 20210418, 20221212, 20220618, 20211124, 20210430, 20201205, 20220605, 20220919, 20230915, 20210426, 20231210, 20201126, 20201012, 20210903, 20231114, 20230529, 20231027, 20220406, 20220918, 20210131, 20231107, 20231110, 20230618, 20220907, 20220830, 20221202, 20211113, 20231124, 20211015, 20231226, 20221104, 20200825, 20210302, 20210405, 20201226, 20200920, 20231106, 20221107, 20230203, 20221014, 20220906, 20230919, 20231223, 20210907, 20201022, 20220314, 20210531, 20210528, 20200301, 20221121, 20220512, 20211228, 20221117, 20221108, 20200908, 20200805, 20200914, 20230422, 20211121, 20211215, 20201119, 20221129, 20200826, 20220717, 20211012, 20211031, 20200321, 20230707, 20230625, 20200803, 20231218, 20230604, 20231202, 20210209, 20210102, 20221029, ...]</td>\n",
       "    </tr>\n",
       "    <tr>\n",
       "      <th>4</th>\n",
       "      <td>Contact Name</td>\n",
       "      <td>793</td>\n",
       "      <td>[Nathan Bell, Deirdre Bailey, Zoe Hodges, Thomas Hodges, Adrian Hunter, Adrian Abraham, Emily Morrison, Claire Welch, Carol Campbell, Blake Hughes, Melanie Sharp, Luke Bower, Jonathan Ferguson, Sam Parsons, Neil Gill, Amelia Campbell, Chloe Short, Jasmine Metcalfe, Karen Mathis, Dylan Dickens, Sophie Lewis, Gavin Mitchell, Katherine Dowd, Harry Brown, Brian Dickens, Joseph Newman, Nicola Howard, Stewart Wilson, Eric McLean, Leah Clarkson, Alison Davidson, Sophie Vance, Anne Lee, Maria Dyer, Julia Ellison, Gordon McLean, Jessica Buckland, Bernadette Nolan, Sonia Ince, William Lewis, Melanie Young, Edward Oliver, Peter Quinn, Max Marshall, Jan Watson, Carol Ball, Gavin Walsh, Penelope Peake, Amy Scott, Carl Jackson, Joe Wallace, Luke Mills, Alexandra Dyer, Rebecca Dickens, Audrey Hardacre, Jennifer Dowd, Natalie Sanderson, Samantha Rampling, Sally Berry, Anthony Clark, Victor Short, Austin Newman, Rose Scott, Tim Morrison, Harry Murray, Dylan Dowd, Angela Parsons, Lisa Oliver, Joseph Duncan, Paul MacDonald, Gordon Graham, Sean Bower, Anthony Sanderson, Stewart Marshall, Joanne Carr, Angela Davies, William Alsop, Owen Watson, Melanie Davidson, Warren Forsyth, Gabrielle Ogden, Justin Randall, Jack Graham, Sophie Henderson, Brian Short, Samantha Lawrence, Una Hudson, Kimberly North, Dylan Ogden, Jonathan Clark, Kevin Vaughan, Madeleine Smith, Diana Ince, Tracey Knox, Michelle McLean, Diana Bell, Jan Clark, Pippa Smith, Rebecca Wilson, Irene Smith, ...]</td>\n",
       "    </tr>\n",
       "    <tr>\n",
       "      <th>5</th>\n",
       "      <td>Country</td>\n",
       "      <td>48</td>\n",
       "      <td>[Ireland, United States, Germany, Sweden, Canada, Japan, Italy, Turkey, Costa Rica, France, Australia, Luxembourg, Brazil, Philippines, India, United Kingdom, Chile, Spain, South Africa, Portugal, Colombia, Belgium, Russia, Netherlands, Mexico, Poland, Singapore, New Zealand, Czech Republic, Saudi Arabia, Argentina, South Korea, Finland, Israel, Norway, Ukraine, United Arab Emirates, Greece, China, Austria, Indonesia, Egypt, Denmark, Croatia, Taiwan, Qatar, Slovenia, Iceland]</td>\n",
       "    </tr>\n",
       "    <tr>\n",
       "      <th>6</th>\n",
       "      <td>City</td>\n",
       "      <td>262</td>\n",
       "      <td>[Dublin, New York City, Stuttgart, Stockholm, Toronto, Saitama, Naples, Ankara, Los Angeles, San José, Paris, Istanbul, Tokyo, Aichi, Wollongong, Hanover, Luxembourg, Salvador, Davao City, Kolkata, London, Brighton, Sydney, Puente Alto, Madrid, Rio de Janeiro, Cape Town, Lisboa, Uppsala, Bogotá, Brussels, Moscow, Canberra, The Hague, Mexico City, Manila, Geelong, Santiago, Aurora, Warsaw, Newark, Monterrey, Rome, Chicago, Singapore, Wellington, Osaka, Melbourne, Prague, Riyadh, Raleigh, Providence, Córdoba, Guadalajara, Oklahoma City, Puerto Vallarta, São Paulo, Johannesburg, Cologne, Rochester, Seattle, Detroit, Lafayette, Munich, St Petersburg, Buenos Aires, Mendoza, Leipzig, Jacksonville, Long Beach, Chiba, Incheon, Helsinki, Dhahran, Seoul, Dresden, Vancouver, Adelaide, Tel Aviv, Hordaland, Hamburg, Henderson, Kyiv, Leicester, Malmö, Berlin, Mumbai, Cardiff, Columbus, Fukuoka, Birmingham, Kanagawa, Liverpool, Abu Dhabi, Milwaukee, Yekaterinburg, Krakow, Frankfurt, Porto, Antofagasta, ...]</td>\n",
       "    </tr>\n",
       "    <tr>\n",
       "      <th>7</th>\n",
       "      <td>Region</td>\n",
       "      <td>3</td>\n",
       "      <td>[EMEA, AMER, APJ]</td>\n",
       "    </tr>\n",
       "    <tr>\n",
       "      <th>8</th>\n",
       "      <td>Subregion</td>\n",
       "      <td>12</td>\n",
       "      <td>[UKIR, NAMER, EU-WEST, NOR, JAPN, EU, MEA, LATAM, ANZ, APAC, IND, EU-EAST]</td>\n",
       "    </tr>\n",
       "    <tr>\n",
       "      <th>9</th>\n",
       "      <td>Customer</td>\n",
       "      <td>99</td>\n",
       "      <td>[Chevron, Phillips 66, Royal Dutch Shell, BNP Paribas, Engie, Microsoft, Pfizer, Toyota Motor, Home Depot, Wells Fargo, Carrefour, Costco Wholesale, McKesson, Siemens, Intel, Glencore, Procter &amp; Gamble, Banco Santander, Pemex, Samsung Electronics, Sony, Morgan Stanley, Bank of America Corp., Tesco, Aviva, Mondelez International, Abbott Laboratories, Fannie Mae, Aetna, Oracle, Nissan Motor, Tyson Foods, Verizon Communications, Itochu, Daimler, Walgreens, Boeing, Valero Energy, Nestle, Philip Morris International, Trafigura Group, Walmart, Cisco Systems, Prudential Financial, Amazon, Gazprom, FedEx, Honda Motor, CVS Health, General Motors, State Farm Insurance Cos., Comcast, AmerisourceBergen, Johnson &amp; Johnson, HonHai Precision Industry, American Express, J.P. Morgan Chase &amp; Co., Kroger, Volkswagen, Merck, AT&amp;T, Allstate, BMW, Humana, Sprint Nextel, Allianz, United Parcel Service, Target, Airbus, Cigna, Goldman Sachs Group, Lowes, Ford Motor, Apple, China National Petroleum, ConocoPhillips, Bosch, HSBC Holdings, Enel, Sysco, Marathon Petroleum, UnitedHealth Group, Mitsubishi, Exxon Mobil, Anthem, Petrobras, Lukoil, Coca-Cola, PepsiCo, General Electric, Berkshire Hathaway, Walt Disney, Alphabet, Huawei, News Corp., Caterpillar, Citigroup, Panasonic, Safeway]</td>\n",
       "    </tr>\n",
       "    <tr>\n",
       "      <th>10</th>\n",
       "      <td>Customer ID</td>\n",
       "      <td>99</td>\n",
       "      <td>[1017, 1056, 1031, 1065, 1062, 1066, 1074, 1087, 1047, 1099, 1048, 1025, 1063, 1043, 1051, 1083, 1077, 1101, 1058, 1015, 1028, 1068, 1011, 1059, 1006, 1067, 1001, 1035, 1002, 1072, 1098, 1088, 1094, 1032, 1052, 1095, 1014, 1093, 1089, 1075, 1100, 1096, 1019, 1078, 1004, 1027, 1036, 1045, 1026, 1041, 1082, 1022, 1007, 1055, 1033, 1005, 1054, 1057, 1046, 1064, 1010, 1003, 1039, 1049, 1081, 1080, 1090, 1085, 1030, 1038, 1042, 1060, 1009, 1008, 1023, 1024, 1076, 1070, 1013, 1084, 1061, 1092, 1050, 1034, 1029, 1018, 1044, 1021, 1073, 1040, 1012, 1097, 1053, 1086, 1071, 1016, 1020, 1091, 1079]</td>\n",
       "    </tr>\n",
       "    <tr>\n",
       "      <th>11</th>\n",
       "      <td>Industry</td>\n",
       "      <td>10</td>\n",
       "      <td>[Energy, Finance, Tech, Healthcare, Manufacturing, Retail, Consumer Products, Misc, Transportation, Communications]</td>\n",
       "    </tr>\n",
       "    <tr>\n",
       "      <th>12</th>\n",
       "      <td>Segment</td>\n",
       "      <td>3</td>\n",
       "      <td>[SMB, Strategic, Enterprise]</td>\n",
       "    </tr>\n",
       "    <tr>\n",
       "      <th>13</th>\n",
       "      <td>Product</td>\n",
       "      <td>14</td>\n",
       "      <td>[Marketing Suite, FinanceHub, ContactMatcher, Marketing Suite - Gold, SaaS Connector Pack, ChatBot Plugin, Site Analytics, OneView, Support, Data Smasher, SaaS Connector Pack - Gold, Storage, Big Ol Database, Alchemy]</td>\n",
       "    </tr>\n",
       "    <tr>\n",
       "      <th>14</th>\n",
       "      <td>License</td>\n",
       "      <td>9994</td>\n",
       "      <td>[16GRM07R1K, QLIW57KZUV, JI6BVL70HQ, DE9GJKGD44, OIF7NY23WD, 8RM88WFOAE, 4SYTVM0746, 07842ES7DY, XPBOBXWXA3, 71J8P9Z1P0, 43NZ37VE2D, JG14MOU94R, FE5QJBIUN1, COK66F8IC1, D8FGC56NNX, NRKT5R1A1G, K5XHYWZ1OV, LWWKLPY4AU, ZYL9KDTY68, I54O29EW1T, E3TF1V9DE8, B83G92QX65, VWDIYAB44Z, AJOASBK55N, P1I8X35CUZ, NRCR8EBL62, PV9U9D3A6O, F8G07TWQ17, BGL4P1U2CZ, B5H6S070N8, D9635UBJOG, 6SQI2HAZ4C, GPQ0TDTGIM, 4YZZHFC212, 77YXBOVGDH, GCT4GPUBVT, TKN9K1JO1D, 2F0NIUM5X9, FBXEM82WEZ, TS9MS0FQVU, HDJMRDRWK6, QINRKET2EK, DFHNNSTX0P, 616XTGD7Y3, F4GWWGL9KR, JFCUNTQD5P, S2GUIRDRRI, 2L5WUVH1UW, O0QZ4DQ2DW, 4A8Q6U643K, N3660I16OB, DU3DC8HDNW, SCMV1FUA1Z, 5JTHBK78DZ, JPNWB3X2PG, RI8MDZ0Y3A, TA8D5XDFPN, 9QD1V31VWF, NKEOT3DP5L, I8M069JA80, 3N1DY2AIMD, MBZM7LCSK4, LMJYGCZAFV, MVEQDJNPR2, OLS0NNZ15B, 84GUTTZTC0, 6QHQUNX985, 91D0JN8T6U, 6NQZXRTE33, JH2K4261IC, 5MAZAYKQ5U, K4O1D2NXHZ, NPQNQFYUUU, D0Z9FZR0JL, X15ND79M8Q, A4VC3VGTLE, IR30G9I4WJ, PGTVTGM7XI, JQHP8C8VXP, 1I3JIURUQR, 0UHOHNAAAD, 920M0N09EE, 9SVF10L0F3, CFUHIDO1WY, CUL2MB77E0, RBNGNEEYS9, W731G6G61K, A3HQUY156G, 45JXXNYX5W, AX50KL6AG9, S4CEY2GSVW, V86OBN8J1U, XJEFE2O3YF, 5XEHT10HDW, U40N63E6AK, VK1TWXDWUR, UFEXZDF5TK, GJFN2RJA9U, PFLFDN3SOU, 2CWM52X1X9, ...]</td>\n",
       "    </tr>\n",
       "    <tr>\n",
       "      <th>15</th>\n",
       "      <td>Sales</td>\n",
       "      <td>5825</td>\n",
       "      <td>[261.96, 731.94, 14.62, 957.5775, 22.368, 48.86, 7.28, 907.152, 18.504, 114.9, 1706.184, 911.424, 15.552, 407.976, 68.81, 2.544, 665.88, 55.5, 8.56, 213.48, 22.72, 19.46, 60.34, 71.372, 1044.63, 11.648, 90.57, 3083.43, 9.618, 124.2, 3.264, 86.304, 6.858, 15.76, 29.472, 1097.544, 190.92, 113.328, 532.3992, 212.058, 371.168, 147.168, 77.88, 95.616, 45.98, 17.46, 211.96, 45.0, 21.8, 38.22, 75.18, 6.16, 89.99, 15.26, 1029.95, 208.56, 32.4, 319.41, 14.56, 30.0, 48.48, 1.68, 13.98, 25.824, 146.73, 79.76, 213.115, 1113.024, 167.968, 75.88, 4.616, 19.05, 831.936, 97.04, 72.784, 1.248, 9.708, 27.24, 19.3, 208.16, 16.74, 14.9, 21.39, 200.984, 230.376, 301.96, 19.99, 158.368, 20.1, 73.584, 6.48, 12.96, 53.34, 32.96, 5.682, 96.53, 51.312, 64.624, 95.976, 1.788, ...]</td>\n",
       "    </tr>\n",
       "    <tr>\n",
       "      <th>16</th>\n",
       "      <td>Quantity</td>\n",
       "      <td>14</td>\n",
       "      <td>[2, 3, 5, 7, 4, 6, 9, 1, 8, 14, 11, 13, 10, 12]</td>\n",
       "    </tr>\n",
       "    <tr>\n",
       "      <th>17</th>\n",
       "      <td>Discount</td>\n",
       "      <td>12</td>\n",
       "      <td>[0.0, 0.45, 0.2, 0.8, 0.3, 0.5, 0.7, 0.6, 0.32, 0.1, 0.4, 0.15]</td>\n",
       "    </tr>\n",
       "    <tr>\n",
       "      <th>18</th>\n",
       "      <td>Profit</td>\n",
       "      <td>7287</td>\n",
       "      <td>[41.9136, 219.582, 6.8714, -383.031, 2.5164, 14.1694, 1.9656, 90.7152, 5.7825, 34.47, 85.3092, 68.3568, 5.4432, 132.5922, -123.858, -3.816, 13.3176, 9.99, 2.4824, 16.011, 7.384, 5.0596, 15.6884, -1.0196, 240.2649, 4.2224, 11.7741, -1665.0522, -7.0532, 15.525, 1.1016, 9.7092, -5.715, 3.546, 9.9468, 123.4737, -147.963, 35.415, -46.9764, -15.147, 41.7564, 16.5564, 3.894, 9.5616, 19.7714, 8.2062, 8.4784, 4.95, 6.104, 17.9634, 35.3346, 2.9568, 17.0981, 6.2566, 298.6855, 52.14, 15.552, 7.098, 6.9888, 3.3, 16.362, 0.84, 6.1512, 9.3612, 68.9631, 22.3328, -15.2225, 111.3024, 62.988, 35.6636, 1.731, 8.763, -114.3912, 1.213, -18.196, -1.9344, -5.8248, 2.724, -14.475, 56.2032, 8.0352, 4.172, 6.2031, 62.8075, -48.9549, 33.2156, 6.7966, 13.8572, 6.633, 8.2782, 3.1104, 6.2208, 16.5354, 16.1504, -3.788, 40.5426, 17.9592, 22.5852, 22.6184, -10.7973, ...]</td>\n",
       "    </tr>\n",
       "  </tbody>\n",
       "</table>\n",
       "</div>"
      ],
      "text/plain": [
       "     Column Name  Number of Unique  \\\n",
       "0   Row ID        9994               \n",
       "1   Order ID      5009               \n",
       "2   Order Date    1237               \n",
       "3   Date Key      1237               \n",
       "4   Contact Name  793                \n",
       "5   Country       48                 \n",
       "6   City          262                \n",
       "7   Region        3                  \n",
       "8   Subregion     12                 \n",
       "9   Customer      99                 \n",
       "10  Customer ID   99                 \n",
       "11  Industry      10                 \n",
       "12  Segment       3                  \n",
       "13  Product       14                 \n",
       "14  License       9994               \n",
       "15  Sales         5825               \n",
       "16  Quantity      14                 \n",
       "17  Discount      12                 \n",
       "18  Profit        7287               \n",
       "\n",
       "                                                                                                                                                                                                                                                                                                                                                                                                                                                                                                                                                                                                                                                                                                                                                                                                                                                                                                                                                                                                                                                                                                                                                                                                                                                                                                                                                                                                                                                                                                                                                                                                                                                                                                                                                                                                                                           Unique Sample  \n",
       "0   [1, 2, 3, 4, 5, 6, 7, 8, 9, 10, 11, 12, 13, 14, 15, 16, 17, 18, 19, 20, 21, 22, 23, 24, 25, 26, 27, 28, 29, 30, 31, 32, 33, 34, 35, 36, 37, 38, 39, 40, 41, 42, 43, 44, 45, 46, 47, 48, 49, 50, 51, 52, 53, 54, 55, 56, 57, 58, 59, 60, 61, 62, 63, 64, 65, 66, 67, 68, 69, 70, 71, 72, 73, 74, 75, 76, 77, 78, 79, 80, 81, 82, 83, 84, 85, 86, 87, 88, 89, 90, 91, 92, 93, 94, 95, 96, 97, 98, 99, 100, ...]                                                                                                                                                                                                                                                                                                                                                                                                                                                                                                                                                                                                                                                                                                                                                                                                                                                                                                                                                                                                                                                                                                                                                                                                                                                                                                                                                                                                                                         \n",
       "1   [EMEA-2022-152156, AMER-2022-138688, EMEA-2021-108966, AMER-2020-115812, EMEA-2023-114412, AMER-2022-161389, APJ-2021-118983, EMEA-2020-105893, EMEA-2020-167164, AMER-2020-143336, AMER-2022-137330, EMEA-2023-156909, EMEA-2021-106320, AMER-2022-121755, EMEA-2021-150630, APJ-2023-107727, APJ-2022-117590, APJ-2021-117415, APJ-2023-120999, AMER-2022-101343, EMEA-2023-139619, EMEA-2022-118255, AMER-2020-146703, APJ-2022-169194, APJ-2021-115742, EMEA-2022-105816, EMEA-2022-111682, AMER-2021-135545, APJ-2021-164175, AMER-2020-106376, EMEA-2022-119823, EMEA-2022-106075, AMER-2023-114440, EMEA-2021-134026, APJ-2023-118038, APJ-2020-147606, EMEA-2022-127208, AMER-2020-139451, EMEA-2021-149734, APJ-2023-119662, AMER-2023-140088, EMEA-2023-155558, APJ-2022-159695, AMER-2022-109806, EMEA-2021-149587, EMEA-2023-109484, EMEA-2023-161018, AMER-2023-157833, EMEA-2022-149223, APJ-2022-158568, EMEA-2022-129903, EMEA-2021-156867, EMEA-2023-119004, APJ-2021-129476, EMEA-2023-146780, EMEA-2022-128867, AMER-2020-115259, AMER-2021-110457, EMEA-2021-136476, APJ-2022-103730, APJ-2020-152030, APJ-2020-134614, AMER-2023-107272, AMER-2022-125969, AMER-2023-164147, AMER-2022-145583, EMEA-2022-110366, AMER-2023-106180, EMEA-2023-155376, AMER-2021-110744, AMER-2020-110072, EMEA-2022-114489, AMER-2022-158834, AMER-2021-124919, AMER-2021-118948, AMER-2020-104269, APJ-2022-114104, AMER-2022-162733, EMEA-2021-119697, APJ-2022-154508, AMER-2022-113817, APJ-2020-139892, AMER-2020-118962, APJ-2020-100853, APJ-2023-152366, AMER-2021-101511, EMEA-2021-137225, APJ-2020-166191, EMEA-2020-158274, EMEA-2022-105018, AMER-2020-123260, APJ-2022-157000, EMEA-2021-102281, AMER-2021-131457, AMER-2020-140004, AMER-2023-107720, EMEA-2023-124303, AMER-2023-105074, EMEA-2020-133690, APJ-2023-116701, ...]  \n",
       "2   [11/9/2022, 6/13/2022, 10/11/2021, 6/9/2020, 4/16/2023, 12/6/2022, 11/22/2021, 11/11/2020, 5/13/2020, 8/27/2020, 12/10/2022, 7/17/2023, 9/25/2021, 1/16/2022, 9/17/2021, 10/20/2023, 12/9/2022, 12/27/2021, 9/11/2023, 7/18/2022, 9/20/2023, 3/12/2022, 10/20/2020, 6/21/2022, 4/18/2021, 12/12/2022, 6/18/2022, 11/24/2021, 4/30/2021, 12/5/2020, 6/5/2022, 9/19/2022, 9/15/2023, 4/26/2021, 12/10/2023, 11/26/2020, 10/12/2020, 9/3/2021, 11/14/2023, 5/29/2023, 10/27/2023, 4/6/2022, 9/18/2022, 1/31/2021, 11/7/2023, 11/10/2023, 6/18/2023, 9/7/2022, 8/30/2022, 12/2/2022, 11/13/2021, 11/24/2023, 10/15/2021, 12/26/2023, 11/4/2022, 8/25/2020, 3/2/2021, 4/5/2021, 12/26/2020, 9/20/2020, 11/6/2023, 11/7/2022, 2/3/2023, 10/14/2022, 9/6/2022, 9/19/2023, 12/23/2023, 9/7/2021, 10/22/2020, 3/14/2022, 5/31/2021, 5/28/2021, 3/1/2020, 11/21/2022, 5/12/2022, 12/28/2021, 11/17/2022, 11/8/2022, 9/8/2020, 8/5/2020, 9/14/2020, 4/22/2023, 11/21/2021, 12/15/2021, 11/19/2020, 11/29/2022, 8/26/2020, 7/17/2022, 10/12/2021, 10/31/2021, 3/21/2020, 7/7/2023, 6/25/2023, 8/3/2020, 12/18/2023, 6/4/2023, 12/2/2023, 2/9/2021, 1/2/2021, 10/29/2022, ...]                                                                                                                                                                                                                                                                                                                                                                                                                                                                                                                                                                                                                                                                                     \n",
       "3   [20221109, 20220613, 20211011, 20200609, 20230416, 20221206, 20211122, 20201111, 20200513, 20200827, 20221210, 20230717, 20210925, 20220116, 20210917, 20231020, 20221209, 20211227, 20230911, 20220718, 20230920, 20220312, 20201020, 20220621, 20210418, 20221212, 20220618, 20211124, 20210430, 20201205, 20220605, 20220919, 20230915, 20210426, 20231210, 20201126, 20201012, 20210903, 20231114, 20230529, 20231027, 20220406, 20220918, 20210131, 20231107, 20231110, 20230618, 20220907, 20220830, 20221202, 20211113, 20231124, 20211015, 20231226, 20221104, 20200825, 20210302, 20210405, 20201226, 20200920, 20231106, 20221107, 20230203, 20221014, 20220906, 20230919, 20231223, 20210907, 20201022, 20220314, 20210531, 20210528, 20200301, 20221121, 20220512, 20211228, 20221117, 20221108, 20200908, 20200805, 20200914, 20230422, 20211121, 20211215, 20201119, 20221129, 20200826, 20220717, 20211012, 20211031, 20200321, 20230707, 20230625, 20200803, 20231218, 20230604, 20231202, 20210209, 20210102, 20221029, ...]                                                                                                                                                                                                                                                                                                                                                                                                                                                                                                                                                                                                                                                                                                                                                                                                         \n",
       "4   [Nathan Bell, Deirdre Bailey, Zoe Hodges, Thomas Hodges, Adrian Hunter, Adrian Abraham, Emily Morrison, Claire Welch, Carol Campbell, Blake Hughes, Melanie Sharp, Luke Bower, Jonathan Ferguson, Sam Parsons, Neil Gill, Amelia Campbell, Chloe Short, Jasmine Metcalfe, Karen Mathis, Dylan Dickens, Sophie Lewis, Gavin Mitchell, Katherine Dowd, Harry Brown, Brian Dickens, Joseph Newman, Nicola Howard, Stewart Wilson, Eric McLean, Leah Clarkson, Alison Davidson, Sophie Vance, Anne Lee, Maria Dyer, Julia Ellison, Gordon McLean, Jessica Buckland, Bernadette Nolan, Sonia Ince, William Lewis, Melanie Young, Edward Oliver, Peter Quinn, Max Marshall, Jan Watson, Carol Ball, Gavin Walsh, Penelope Peake, Amy Scott, Carl Jackson, Joe Wallace, Luke Mills, Alexandra Dyer, Rebecca Dickens, Audrey Hardacre, Jennifer Dowd, Natalie Sanderson, Samantha Rampling, Sally Berry, Anthony Clark, Victor Short, Austin Newman, Rose Scott, Tim Morrison, Harry Murray, Dylan Dowd, Angela Parsons, Lisa Oliver, Joseph Duncan, Paul MacDonald, Gordon Graham, Sean Bower, Anthony Sanderson, Stewart Marshall, Joanne Carr, Angela Davies, William Alsop, Owen Watson, Melanie Davidson, Warren Forsyth, Gabrielle Ogden, Justin Randall, Jack Graham, Sophie Henderson, Brian Short, Samantha Lawrence, Una Hudson, Kimberly North, Dylan Ogden, Jonathan Clark, Kevin Vaughan, Madeleine Smith, Diana Ince, Tracey Knox, Michelle McLean, Diana Bell, Jan Clark, Pippa Smith, Rebecca Wilson, Irene Smith, ...]                                                                                                                                                                                                                                                                                                                       \n",
       "5   [Ireland, United States, Germany, Sweden, Canada, Japan, Italy, Turkey, Costa Rica, France, Australia, Luxembourg, Brazil, Philippines, India, United Kingdom, Chile, Spain, South Africa, Portugal, Colombia, Belgium, Russia, Netherlands, Mexico, Poland, Singapore, New Zealand, Czech Republic, Saudi Arabia, Argentina, South Korea, Finland, Israel, Norway, Ukraine, United Arab Emirates, Greece, China, Austria, Indonesia, Egypt, Denmark, Croatia, Taiwan, Qatar, Slovenia, Iceland]                                                                                                                                                                                                                                                                                                                                                                                                                                                                                                                                                                                                                                                                                                                                                                                                                                                                                                                                                                                                                                                                                                                                                                                                                                                                                                                                                      \n",
       "6   [Dublin, New York City, Stuttgart, Stockholm, Toronto, Saitama, Naples, Ankara, Los Angeles, San José, Paris, Istanbul, Tokyo, Aichi, Wollongong, Hanover, Luxembourg, Salvador, Davao City, Kolkata, London, Brighton, Sydney, Puente Alto, Madrid, Rio de Janeiro, Cape Town, Lisboa, Uppsala, Bogotá, Brussels, Moscow, Canberra, The Hague, Mexico City, Manila, Geelong, Santiago, Aurora, Warsaw, Newark, Monterrey, Rome, Chicago, Singapore, Wellington, Osaka, Melbourne, Prague, Riyadh, Raleigh, Providence, Córdoba, Guadalajara, Oklahoma City, Puerto Vallarta, São Paulo, Johannesburg, Cologne, Rochester, Seattle, Detroit, Lafayette, Munich, St Petersburg, Buenos Aires, Mendoza, Leipzig, Jacksonville, Long Beach, Chiba, Incheon, Helsinki, Dhahran, Seoul, Dresden, Vancouver, Adelaide, Tel Aviv, Hordaland, Hamburg, Henderson, Kyiv, Leicester, Malmö, Berlin, Mumbai, Cardiff, Columbus, Fukuoka, Birmingham, Kanagawa, Liverpool, Abu Dhabi, Milwaukee, Yekaterinburg, Krakow, Frankfurt, Porto, Antofagasta, ...]                                                                                                                                                                                                                                                                                                                                                                                                                                                                                                                                                                                                                                                                                                                                                                                                       \n",
       "7   [EMEA, AMER, APJ]                                                                                                                                                                                                                                                                                                                                                                                                                                                                                                                                                                                                                                                                                                                                                                                                                                                                                                                                                                                                                                                                                                                                                                                                                                                                                                                                                                                                                                                                                                                                                                                                                                                                                                                                                                                                                                     \n",
       "8   [UKIR, NAMER, EU-WEST, NOR, JAPN, EU, MEA, LATAM, ANZ, APAC, IND, EU-EAST]                                                                                                                                                                                                                                                                                                                                                                                                                                                                                                                                                                                                                                                                                                                                                                                                                                                                                                                                                                                                                                                                                                                                                                                                                                                                                                                                                                                                                                                                                                                                                                                                                                                                                                                                                                            \n",
       "9   [Chevron, Phillips 66, Royal Dutch Shell, BNP Paribas, Engie, Microsoft, Pfizer, Toyota Motor, Home Depot, Wells Fargo, Carrefour, Costco Wholesale, McKesson, Siemens, Intel, Glencore, Procter & Gamble, Banco Santander, Pemex, Samsung Electronics, Sony, Morgan Stanley, Bank of America Corp., Tesco, Aviva, Mondelez International, Abbott Laboratories, Fannie Mae, Aetna, Oracle, Nissan Motor, Tyson Foods, Verizon Communications, Itochu, Daimler, Walgreens, Boeing, Valero Energy, Nestle, Philip Morris International, Trafigura Group, Walmart, Cisco Systems, Prudential Financial, Amazon, Gazprom, FedEx, Honda Motor, CVS Health, General Motors, State Farm Insurance Cos., Comcast, AmerisourceBergen, Johnson & Johnson, HonHai Precision Industry, American Express, J.P. Morgan Chase & Co., Kroger, Volkswagen, Merck, AT&T, Allstate, BMW, Humana, Sprint Nextel, Allianz, United Parcel Service, Target, Airbus, Cigna, Goldman Sachs Group, Lowes, Ford Motor, Apple, China National Petroleum, ConocoPhillips, Bosch, HSBC Holdings, Enel, Sysco, Marathon Petroleum, UnitedHealth Group, Mitsubishi, Exxon Mobil, Anthem, Petrobras, Lukoil, Coca-Cola, PepsiCo, General Electric, Berkshire Hathaway, Walt Disney, Alphabet, Huawei, News Corp., Caterpillar, Citigroup, Panasonic, Safeway]                                                                                                                                                                                                                                                                                                                                                                                                                                                                                                                          \n",
       "10  [1017, 1056, 1031, 1065, 1062, 1066, 1074, 1087, 1047, 1099, 1048, 1025, 1063, 1043, 1051, 1083, 1077, 1101, 1058, 1015, 1028, 1068, 1011, 1059, 1006, 1067, 1001, 1035, 1002, 1072, 1098, 1088, 1094, 1032, 1052, 1095, 1014, 1093, 1089, 1075, 1100, 1096, 1019, 1078, 1004, 1027, 1036, 1045, 1026, 1041, 1082, 1022, 1007, 1055, 1033, 1005, 1054, 1057, 1046, 1064, 1010, 1003, 1039, 1049, 1081, 1080, 1090, 1085, 1030, 1038, 1042, 1060, 1009, 1008, 1023, 1024, 1076, 1070, 1013, 1084, 1061, 1092, 1050, 1034, 1029, 1018, 1044, 1021, 1073, 1040, 1012, 1097, 1053, 1086, 1071, 1016, 1020, 1091, 1079]                                                                                                                                                                                                                                                                                                                                                                                                                                                                                                                                                                                                                                                                                                                                                                                                                                                                                                                                                                                                                                                                                                                                                                                                                                    \n",
       "11  [Energy, Finance, Tech, Healthcare, Manufacturing, Retail, Consumer Products, Misc, Transportation, Communications]                                                                                                                                                                                                                                                                                                                                                                                                                                                                                                                                                                                                                                                                                                                                                                                                                                                                                                                                                                                                                                                                                                                                                                                                                                                                                                                                                                                                                                                                                                                                                                                                                                                                                                                                   \n",
       "12  [SMB, Strategic, Enterprise]                                                                                                                                                                                                                                                                                                                                                                                                                                                                                                                                                                                                                                                                                                                                                                                                                                                                                                                                                                                                                                                                                                                                                                                                                                                                                                                                                                                                                                                                                                                                                                                                                                                                                                                                                                                                                          \n",
       "13  [Marketing Suite, FinanceHub, ContactMatcher, Marketing Suite - Gold, SaaS Connector Pack, ChatBot Plugin, Site Analytics, OneView, Support, Data Smasher, SaaS Connector Pack - Gold, Storage, Big Ol Database, Alchemy]                                                                                                                                                                                                                                                                                                                                                                                                                                                                                                                                                                                                                                                                                                                                                                                                                                                                                                                                                                                                                                                                                                                                                                                                                                                                                                                                                                                                                                                                                                                                                                                                                             \n",
       "14  [16GRM07R1K, QLIW57KZUV, JI6BVL70HQ, DE9GJKGD44, OIF7NY23WD, 8RM88WFOAE, 4SYTVM0746, 07842ES7DY, XPBOBXWXA3, 71J8P9Z1P0, 43NZ37VE2D, JG14MOU94R, FE5QJBIUN1, COK66F8IC1, D8FGC56NNX, NRKT5R1A1G, K5XHYWZ1OV, LWWKLPY4AU, ZYL9KDTY68, I54O29EW1T, E3TF1V9DE8, B83G92QX65, VWDIYAB44Z, AJOASBK55N, P1I8X35CUZ, NRCR8EBL62, PV9U9D3A6O, F8G07TWQ17, BGL4P1U2CZ, B5H6S070N8, D9635UBJOG, 6SQI2HAZ4C, GPQ0TDTGIM, 4YZZHFC212, 77YXBOVGDH, GCT4GPUBVT, TKN9K1JO1D, 2F0NIUM5X9, FBXEM82WEZ, TS9MS0FQVU, HDJMRDRWK6, QINRKET2EK, DFHNNSTX0P, 616XTGD7Y3, F4GWWGL9KR, JFCUNTQD5P, S2GUIRDRRI, 2L5WUVH1UW, O0QZ4DQ2DW, 4A8Q6U643K, N3660I16OB, DU3DC8HDNW, SCMV1FUA1Z, 5JTHBK78DZ, JPNWB3X2PG, RI8MDZ0Y3A, TA8D5XDFPN, 9QD1V31VWF, NKEOT3DP5L, I8M069JA80, 3N1DY2AIMD, MBZM7LCSK4, LMJYGCZAFV, MVEQDJNPR2, OLS0NNZ15B, 84GUTTZTC0, 6QHQUNX985, 91D0JN8T6U, 6NQZXRTE33, JH2K4261IC, 5MAZAYKQ5U, K4O1D2NXHZ, NPQNQFYUUU, D0Z9FZR0JL, X15ND79M8Q, A4VC3VGTLE, IR30G9I4WJ, PGTVTGM7XI, JQHP8C8VXP, 1I3JIURUQR, 0UHOHNAAAD, 920M0N09EE, 9SVF10L0F3, CFUHIDO1WY, CUL2MB77E0, RBNGNEEYS9, W731G6G61K, A3HQUY156G, 45JXXNYX5W, AX50KL6AG9, S4CEY2GSVW, V86OBN8J1U, XJEFE2O3YF, 5XEHT10HDW, U40N63E6AK, VK1TWXDWUR, UFEXZDF5TK, GJFN2RJA9U, PFLFDN3SOU, 2CWM52X1X9, ...]                                                                                                                                                                                                                                                                                                                                                                                                                                                                                                                                                                                                 \n",
       "15  [261.96, 731.94, 14.62, 957.5775, 22.368, 48.86, 7.28, 907.152, 18.504, 114.9, 1706.184, 911.424, 15.552, 407.976, 68.81, 2.544, 665.88, 55.5, 8.56, 213.48, 22.72, 19.46, 60.34, 71.372, 1044.63, 11.648, 90.57, 3083.43, 9.618, 124.2, 3.264, 86.304, 6.858, 15.76, 29.472, 1097.544, 190.92, 113.328, 532.3992, 212.058, 371.168, 147.168, 77.88, 95.616, 45.98, 17.46, 211.96, 45.0, 21.8, 38.22, 75.18, 6.16, 89.99, 15.26, 1029.95, 208.56, 32.4, 319.41, 14.56, 30.0, 48.48, 1.68, 13.98, 25.824, 146.73, 79.76, 213.115, 1113.024, 167.968, 75.88, 4.616, 19.05, 831.936, 97.04, 72.784, 1.248, 9.708, 27.24, 19.3, 208.16, 16.74, 14.9, 21.39, 200.984, 230.376, 301.96, 19.99, 158.368, 20.1, 73.584, 6.48, 12.96, 53.34, 32.96, 5.682, 96.53, 51.312, 64.624, 95.976, 1.788, ...]                                                                                                                                                                                                                                                                                                                                                                                                                                                                                                                                                                                                                                                                                                                                                                                                                                                                                                                                                                                                                                                          \n",
       "16  [2, 3, 5, 7, 4, 6, 9, 1, 8, 14, 11, 13, 10, 12]                                                                                                                                                                                                                                                                                                                                                                                                                                                                                                                                                                                                                                                                                                                                                                                                                                                                                                                                                                                                                                                                                                                                                                                                                                                                                                                                                                                                                                                                                                                                                                                                                                                                                                                                                                                                       \n",
       "17  [0.0, 0.45, 0.2, 0.8, 0.3, 0.5, 0.7, 0.6, 0.32, 0.1, 0.4, 0.15]                                                                                                                                                                                                                                                                                                                                                                                                                                                                                                                                                                                                                                                                                                                                                                                                                                                                                                                                                                                                                                                                                                                                                                                                                                                                                                                                                                                                                                                                                                                                                                                                                                                                                                                                                                                       \n",
       "18  [41.9136, 219.582, 6.8714, -383.031, 2.5164, 14.1694, 1.9656, 90.7152, 5.7825, 34.47, 85.3092, 68.3568, 5.4432, 132.5922, -123.858, -3.816, 13.3176, 9.99, 2.4824, 16.011, 7.384, 5.0596, 15.6884, -1.0196, 240.2649, 4.2224, 11.7741, -1665.0522, -7.0532, 15.525, 1.1016, 9.7092, -5.715, 3.546, 9.9468, 123.4737, -147.963, 35.415, -46.9764, -15.147, 41.7564, 16.5564, 3.894, 9.5616, 19.7714, 8.2062, 8.4784, 4.95, 6.104, 17.9634, 35.3346, 2.9568, 17.0981, 6.2566, 298.6855, 52.14, 15.552, 7.098, 6.9888, 3.3, 16.362, 0.84, 6.1512, 9.3612, 68.9631, 22.3328, -15.2225, 111.3024, 62.988, 35.6636, 1.731, 8.763, -114.3912, 1.213, -18.196, -1.9344, -5.8248, 2.724, -14.475, 56.2032, 8.0352, 4.172, 6.2031, 62.8075, -48.9549, 33.2156, 6.7966, 13.8572, 6.633, 8.2782, 3.1104, 6.2208, 16.5354, 16.1504, -3.788, 40.5426, 17.9592, 22.5852, 22.6184, -10.7973, ...]                                                                                                                                                                                                                                                                                                                                                                                                                                                                                                                                                                                                                                                                                                                                                                                                                                                                                                                                                                     "
      ]
     },
     "execution_count": 8,
     "metadata": {},
     "output_type": "execute_result"
    }
   ],
   "source": [
    "pd.set_option('display.max_colwidth', -1)\n",
    "# data uni di tiap kolom\n",
    "listItem = []\n",
    "for col in df.columns :\n",
    "    listItem.append( [col, df[col].nunique(), df[col].unique()])\n",
    "\n",
    "tabel1Desc = pd.DataFrame(columns=['Column Name', 'Number of Unique', 'Unique Sample'],\n",
    "                     data=listItem)\n",
    "tabel1Desc"
   ]
  },
  {
   "cell_type": "markdown",
   "id": "a522a783",
   "metadata": {},
   "source": [
    "Secara umum, kita bisa melihat bahwa:\n",
    "* dataset SaaS_Sales memiliki 19 kolom dan 9.994 baris\n",
    "* tidak terdapat data kosong\n",
    "* tidak terdapat data duplicate"
   ]
  },
  {
   "cell_type": "markdown",
   "id": "e7f9ad44",
   "metadata": {},
   "source": [
    "#### Missing Value"
   ]
  },
  {
   "cell_type": "code",
   "execution_count": 9,
   "id": "d0dee4aa",
   "metadata": {},
   "outputs": [
    {
     "data": {
      "text/plain": [
       "Row ID          0.0\n",
       "Order ID        0.0\n",
       "Order Date      0.0\n",
       "Date Key        0.0\n",
       "Contact Name    0.0\n",
       "Country         0.0\n",
       "City            0.0\n",
       "Region          0.0\n",
       "Subregion       0.0\n",
       "Customer        0.0\n",
       "Customer ID     0.0\n",
       "Industry        0.0\n",
       "Segment         0.0\n",
       "Product         0.0\n",
       "License         0.0\n",
       "Sales           0.0\n",
       "Quantity        0.0\n",
       "Discount        0.0\n",
       "Profit          0.0\n",
       "dtype: float64"
      ]
     },
     "execution_count": 9,
     "metadata": {},
     "output_type": "execute_result"
    }
   ],
   "source": [
    "# persentase missing value di tiap kolom\n",
    "df.isna().sum()/df.shape[0]*100"
   ]
  },
  {
   "cell_type": "markdown",
   "id": "59c58526",
   "metadata": {},
   "source": [
    "Karena data tidak memiliki kekosongan, duplikasi, dan secara domain seluruh data telah memenuhi kaidahnya. Maka selanjutnya akan dilakukan analisa data dengan data yang utuh atau sama yaitu, 19 kolom dan 9994 baris data."
   ]
  },
  {
   "cell_type": "markdown",
   "id": "b51a7929",
   "metadata": {},
   "source": [
    "## Data Analyst"
   ]
  },
  {
   "cell_type": "markdown",
   "id": "02ecec7c",
   "metadata": {},
   "source": [
    "Untuk mencari transaksi yang cenderung merugikan perusahaan maka dilakukan analisis pada fitur profit. kita akan mencari dari ***consumer negara mana saja yang mencetak transaksi merugikan.***\n",
    "\n",
    "Analisis akan dilakukan pada beberapa variable data.\n",
    "untuk analisis pertama akan dilakukan pada variable diskon. kita mengalisis terlebih dahulu **korelasi diskon terhadap profit \n",
    "& sales**\n",
    "\n",
    "sebelum mengetahui nilai korelasi, ***dilakukan terlebih dahulu tes normalitas kolmogorov-smirnov. tes KS dipilih karena cocok untuk sampel berukuran besar & lebih sensitif terhadap perbedaan di ekor distribusi***. \n",
    "\n",
    "Setelah diketahui apakah data terdistribusi normal atau tidak, bisa dilakukan analisis korelasi yang tepat yaitu korelasi pearson jika data terdistribusi normal atau korelasi spearman jika distribusi data tidak normal"
   ]
  },
  {
   "cell_type": "code",
   "execution_count": 10,
   "id": "26fb5f0b",
   "metadata": {},
   "outputs": [],
   "source": [
    "# membuat tabel baru yang hanya berisi data kuntitatif untuk pengujian\n",
    "x = df.drop(columns=['Row ID', 'Order ID','Order Date','Contact Name','Country','City','Region','Subregion', 'Customer','Industry','Segment','Product','License','Date Key','Customer ID'])"
   ]
  },
  {
   "cell_type": "code",
   "execution_count": 11,
   "id": "151647e8",
   "metadata": {},
   "outputs": [
    {
     "name": "stdout",
     "output_type": "stream",
     "text": [
      "p-value of Sales : 0.00000. So, NOT Normal Distribution\n",
      "p-value of Quantity : 0.00000. So, NOT Normal Distribution\n",
      "p-value of Discount : 0.00000. So, NOT Normal Distribution\n",
      "p-value of Profit : 0.00000. So, NOT Normal Distribution\n"
     ]
    }
   ],
   "source": [
    "from scipy.stats import kstest\n",
    "\n",
    "for column in x:\n",
    "    # y = kstest(x[column], 'norm')\n",
    "    ks_statistic, ks_pvalue = kstest(x[column], 'norm')\n",
    "    \n",
    "    if ks_pvalue > 0.05:\n",
    "        print(f'p-value of {column} : {ks_pvalue:.5f}. So, Normal Distribution')\n",
    "    else:\n",
    "        print(f'p-value of {column} : {ks_pvalue:.5f}. So, NOT Normal Distribution')"
   ]
  },
  {
   "cell_type": "markdown",
   "id": "81fa2179",
   "metadata": {},
   "source": [
    "Karena penyebaran data tidak ada yang normal maka dipilih tes korelasi non-parametrik spearman"
   ]
  },
  {
   "cell_type": "code",
   "execution_count": 12,
   "id": "49831494",
   "metadata": {},
   "outputs": [
    {
     "data": {
      "text/html": [
       "<div>\n",
       "<style scoped>\n",
       "    .dataframe tbody tr th:only-of-type {\n",
       "        vertical-align: middle;\n",
       "    }\n",
       "\n",
       "    .dataframe tbody tr th {\n",
       "        vertical-align: top;\n",
       "    }\n",
       "\n",
       "    .dataframe thead th {\n",
       "        text-align: right;\n",
       "    }\n",
       "</style>\n",
       "<table border=\"1\" class=\"dataframe\">\n",
       "  <thead>\n",
       "    <tr style=\"text-align: right;\">\n",
       "      <th></th>\n",
       "      <th>Sales</th>\n",
       "      <th>Quantity</th>\n",
       "      <th>Discount</th>\n",
       "      <th>Profit</th>\n",
       "    </tr>\n",
       "  </thead>\n",
       "  <tbody>\n",
       "    <tr>\n",
       "      <th>Sales</th>\n",
       "      <td>1.000000</td>\n",
       "      <td>0.327426</td>\n",
       "      <td>-0.056969</td>\n",
       "      <td>0.518407</td>\n",
       "    </tr>\n",
       "    <tr>\n",
       "      <th>Quantity</th>\n",
       "      <td>0.327426</td>\n",
       "      <td>1.000000</td>\n",
       "      <td>-0.000878</td>\n",
       "      <td>0.234491</td>\n",
       "    </tr>\n",
       "    <tr>\n",
       "      <th>Discount</th>\n",
       "      <td>-0.056969</td>\n",
       "      <td>-0.000878</td>\n",
       "      <td>1.000000</td>\n",
       "      <td>-0.543350</td>\n",
       "    </tr>\n",
       "    <tr>\n",
       "      <th>Profit</th>\n",
       "      <td>0.518407</td>\n",
       "      <td>0.234491</td>\n",
       "      <td>-0.543350</td>\n",
       "      <td>1.000000</td>\n",
       "    </tr>\n",
       "  </tbody>\n",
       "</table>\n",
       "</div>"
      ],
      "text/plain": [
       "             Sales  Quantity  Discount    Profit\n",
       "Sales     1.000000  0.327426 -0.056969  0.518407\n",
       "Quantity  0.327426  1.000000 -0.000878  0.234491\n",
       "Discount -0.056969 -0.000878  1.000000 -0.543350\n",
       "Profit    0.518407  0.234491 -0.543350  1.000000"
      ]
     },
     "execution_count": 12,
     "metadata": {},
     "output_type": "execute_result"
    }
   ],
   "source": [
    "x.corr(method='spearman')"
   ]
  },
  {
   "cell_type": "markdown",
   "id": "14587cd8",
   "metadata": {},
   "source": [
    "Dari Cross tabulation diatas dapat diinterpretasikan sebagai berikut :\n",
    "\n",
    "Discount & Sales (-0.056969):\n",
    "    Korelasi negatif kecil (-0.06) antara Sales dan Discount. Ini menunjukkan bahwa ada hubungan negatif kecil antara penjualan \n",
    "    (Sales) dan besaran diskon yang diberikan (Discount), tetapi hubungan ini tidak kuat.\n",
    "\n",
    "Discount & Quantity (-0.000878):\n",
    "    Korelasi yang sangat kecil dan mendekati nol antara Quantity dan Discount. Ini menunjukkan bahwa tidak ada hubungan linear \n",
    "    yang signifikan antara kuantitas barang yang terjual dan besaran diskon.\n",
    "\n",
    "Discount & Profit (-0.543350):\n",
    "    Korelasi negatif yang cukup kuat (-0.54) antara Discount dan Profit. Ini menunjukkan bahwa besaran diskon yang tinggi dapat \n",
    "    berkorelasi negatif dengan keuntungan, yang berarti memberikan diskon besar tidak selalu berdampak positif pada \n",
    "    profitabilitas."
   ]
  },
  {
   "cell_type": "markdown",
   "id": "bfce82a0",
   "metadata": {},
   "source": [
    "Dari Analisis tersebut kita akan mencari negara yang memiliki discount terbanyak beserta profit yang dihasilkan"
   ]
  },
  {
   "cell_type": "code",
   "execution_count": 13,
   "id": "ee2cdcfa",
   "metadata": {},
   "outputs": [
    {
     "data": {
      "text/html": [
       "<div>\n",
       "<style scoped>\n",
       "    .dataframe tbody tr th:only-of-type {\n",
       "        vertical-align: middle;\n",
       "    }\n",
       "\n",
       "    .dataframe tbody tr th {\n",
       "        vertical-align: top;\n",
       "    }\n",
       "\n",
       "    .dataframe thead th {\n",
       "        text-align: right;\n",
       "    }\n",
       "</style>\n",
       "<table border=\"1\" class=\"dataframe\">\n",
       "  <thead>\n",
       "    <tr style=\"text-align: right;\">\n",
       "      <th></th>\n",
       "      <th>Country</th>\n",
       "      <th>Discount</th>\n",
       "      <th>Profit</th>\n",
       "    </tr>\n",
       "  </thead>\n",
       "  <tbody>\n",
       "    <tr>\n",
       "      <th>0</th>\n",
       "      <td>Japan</td>\n",
       "      <td>364.64</td>\n",
       "      <td>-25729.3563</td>\n",
       "    </tr>\n",
       "    <tr>\n",
       "      <th>1</th>\n",
       "      <td>France</td>\n",
       "      <td>192.90</td>\n",
       "      <td>-15559.9603</td>\n",
       "    </tr>\n",
       "    <tr>\n",
       "      <th>2</th>\n",
       "      <td>Australia</td>\n",
       "      <td>191.90</td>\n",
       "      <td>-12607.8870</td>\n",
       "    </tr>\n",
       "    <tr>\n",
       "      <th>3</th>\n",
       "      <td>Mexico</td>\n",
       "      <td>152.40</td>\n",
       "      <td>-16971.3766</td>\n",
       "    </tr>\n",
       "    <tr>\n",
       "      <th>4</th>\n",
       "      <td>United States</td>\n",
       "      <td>145.60</td>\n",
       "      <td>76381.3871</td>\n",
       "    </tr>\n",
       "    <tr>\n",
       "      <th>5</th>\n",
       "      <td>Germany</td>\n",
       "      <td>114.65</td>\n",
       "      <td>-3399.3017</td>\n",
       "    </tr>\n",
       "    <tr>\n",
       "      <th>6</th>\n",
       "      <td>Sweden</td>\n",
       "      <td>70.60</td>\n",
       "      <td>-7490.9122</td>\n",
       "    </tr>\n",
       "    <tr>\n",
       "      <th>7</th>\n",
       "      <td>Chile</td>\n",
       "      <td>68.00</td>\n",
       "      <td>-3427.9246</td>\n",
       "    </tr>\n",
       "    <tr>\n",
       "      <th>8</th>\n",
       "      <td>United Kingdom</td>\n",
       "      <td>62.40</td>\n",
       "      <td>74989.0891</td>\n",
       "    </tr>\n",
       "    <tr>\n",
       "      <th>9</th>\n",
       "      <td>Russia</td>\n",
       "      <td>57.60</td>\n",
       "      <td>-6527.8579</td>\n",
       "    </tr>\n",
       "    <tr>\n",
       "      <th>10</th>\n",
       "      <td>South Africa</td>\n",
       "      <td>53.30</td>\n",
       "      <td>-5341.6936</td>\n",
       "    </tr>\n",
       "    <tr>\n",
       "      <th>11</th>\n",
       "      <td>Belgium</td>\n",
       "      <td>35.80</td>\n",
       "      <td>-1190.4705</td>\n",
       "    </tr>\n",
       "  </tbody>\n",
       "</table>\n",
       "</div>"
      ],
      "text/plain": [
       "           Country  Discount      Profit\n",
       "0   Japan           364.64   -25729.3563\n",
       "1   France          192.90   -15559.9603\n",
       "2   Australia       191.90   -12607.8870\n",
       "3   Mexico          152.40   -16971.3766\n",
       "4   United States   145.60    76381.3871\n",
       "5   Germany         114.65   -3399.3017 \n",
       "6   Sweden          70.60    -7490.9122 \n",
       "7   Chile           68.00    -3427.9246 \n",
       "8   United Kingdom  62.40     74989.0891\n",
       "9   Russia          57.60    -6527.8579 \n",
       "10  South Africa    53.30    -5341.6936 \n",
       "11  Belgium         35.80    -1190.4705 "
      ]
     },
     "execution_count": 13,
     "metadata": {},
     "output_type": "execute_result"
    }
   ],
   "source": [
    "df_dsct = df[['Country','Discount','Profit']].sort_values(by='Discount')\n",
    "df_dsct_total = df_dsct.groupby('Country')[['Discount','Profit']].sum()\n",
    "df_dsct_total_sorted = df_dsct_total.sort_values(by='Discount', ascending=False).head(12).reset_index()\n",
    "df_dsct_total_sorted"
   ]
  },
  {
   "cell_type": "code",
   "execution_count": 14,
   "id": "179f9e49",
   "metadata": {},
   "outputs": [
    {
     "data": {
      "image/png": "[encoded data removed]",
      "text/plain": [
       "<Figure size 800x500 with 1 Axes>"
      ]
     },
     "metadata": {},
     "output_type": "display_data"
    },
    {
     "data": {
      "image/png": "[encoded data removed]",
      "text/plain": [
       "<Figure size 800x500 with 1 Axes>"
      ]
     },
     "metadata": {},
     "output_type": "display_data"
    }
   ],
   "source": [
    "ax = df_dsct_total_sorted['Discount'].plot(kind='bar', figsize=(8, 5), color='orange')\n",
    "ax.set_xticklabels(df_dsct_total_sorted['Country'], rotation=45, ha='right')\n",
    "plt.title('Table of Country With The Highest Discount')\n",
    "plt.xlabel('Country')\n",
    "plt.ylabel('Total Discount')\n",
    "plt.show()\n",
    "\n",
    "ax = df_dsct_total_sorted['Profit'].plot(kind='bar', figsize=(8, 5), color='skyblue')\n",
    "ax.set_xticklabels(df_dsct_total_sorted['Country'], rotation=45, ha='right')\n",
    "plt.title('Table of Country Profit sort by Discount')\n",
    "plt.xlabel('Country')\n",
    "plt.ylabel('Total Profit')\n",
    "plt.show()"
   ]
  },
  {
   "cell_type": "markdown",
   "id": "f4ab7930",
   "metadata": {},
   "source": [
    "Dari dua table diatas kita bisa melihat bahwa 8 dari 10 negara dengan diskon tertinggi mengalami kerugian profit. Terutama negara Jepang, disisi lain Jepang adalah negara penerima discount  terbesar pada 4 tahun operasional. untuk mengetahui lebih lanjut kita akan melihat produk apa saja memiliki profit terendah di negara Jepang. "
   ]
  },
  {
   "cell_type": "code",
   "execution_count": 15,
   "id": "bcf8b45e",
   "metadata": {},
   "outputs": [
    {
     "name": "stdout",
     "output_type": "stream",
     "text": [
      "Country                    Product      Profit\n",
      "  Japan             ContactMatcher -16921.7504\n",
      "  Japan                    OneView  -6147.2225\n",
      "  Japan        SaaS Connector Pack  -3312.6786\n",
      "  Japan            Big Ol Database  -2666.8434\n",
      "  Japan            Marketing Suite  -2391.1377\n",
      "  Japan                 FinanceHub  -2315.2470\n",
      "  Japan     Marketing Suite - Gold   -763.7054\n",
      "  Japan                    Storage     80.7357\n",
      "  Japan             ChatBot Plugin    316.3538\n",
      "  Japan SaaS Connector Pack - Gold    848.1760\n",
      "  Japan               Data Smasher   1105.8501\n",
      "  Japan                    Support   1585.6908\n",
      "\n",
      "untuk kerugian besar, nilainya lebih dari -83.44804152859435\n"
     ]
    }
   ],
   "source": [
    "selected = ['Japan']\n",
    "filter_selected = df['Country'].isin(selected)\n",
    "filter_df = df[filter_selected]\n",
    "\n",
    "df_lp = filter_df[['Country','Product','Profit']].sort_values(by='Profit')\n",
    "df_lp_total = df_lp.groupby(['Country','Product'])[['Profit']].sum()\n",
    "df_lp_total_sorted = df_lp_total.sort_values(by='Profit', ascending=True).head(12).reset_index()\n",
    "df_lp_total_sorted\n",
    "print(df_lp_total_sorted.to_string(index=False))\n",
    "print()\n",
    "\n",
    "y = df[df['Profit'] < 0]\n",
    "y_avg = y['Profit'].mean()\n",
    "print(\"untuk kerugian besar, nilainya lebih dari\", y_avg)"
   ]
  },
  {
   "cell_type": "markdown",
   "id": "905e0f27",
   "metadata": {},
   "source": [
    "Dari Table diatas, 6 dari 11 product yang dijual di Jepang mengalami kerugian. dan semua kerugian yang dialami dijepang masuk dalam kategori kerugian besar karena diatas rata-rata kerugian penjualan product secara umum."
   ]
  },
  {
   "cell_type": "code",
   "execution_count": 35,
   "id": "3cd90699",
   "metadata": {},
   "outputs": [],
   "source": [
    "# Melihat fitur data banyaknya penjualan (Count Sales) dan diskon pada negara jepang dari 2020-2023 \n",
    "df_copy = df.copy()\n",
    "\n",
    "df['Order Date'] = pd.to_datetime(df['Order Date'], format='%m/%d/%Y')\n",
    "\n",
    "# Memilih satu negara (misalnya, Jepang)\n",
    "selected_country = 'Japan'\n",
    "selected_year = [2020,2021,2022,2023]\n",
    "\n",
    "resultSales = []\n",
    "resultDisc = []\n",
    "\n",
    "# Membuat filter berdasarkan tahun dan negara pada DataFrame\n",
    "for i in selected_year:\n",
    "    filter_df = df[(df['Order Date'].dt.year == i) & (df['Country'] == selected_country)]\n",
    "    resultSales.append(filter_df['Sales'].count())\n",
    "    \n",
    "    filter_df = df[(df['Order Date'].dt.year == i) & (df['Country'] == selected_country)]\n",
    "    resultDisc.append(round(filter_df['Discount'].sum()))\n",
    "\n",
    "#print(resultSales)\n",
    "#type(resultSales[0])\n",
    "#print(resultDisc)\n",
    "#type(resultDisc[0])\n",
    "# Menampilkan hasil\n",
    "# print(filter_df['Sales'].count())"
   ]
  },
  {
   "cell_type": "code",
   "execution_count": 17,
   "id": "c8f350de",
   "metadata": {},
   "outputs": [
    {
     "data": {
      "image/png": "[encoded data removed]",
      "text/plain": [
       "<Figure size 640x480 with 2 Axes>"
      ]
     },
     "metadata": {},
     "output_type": "display_data"
    }
   ],
   "source": [
    "fig, ax1 = plt.subplots()\n",
    "\n",
    "# Bar chart untuk Sales count\n",
    "ax1.bar(selected_year, resultSales, color='b', alpha=0.3, label='Sales Count')\n",
    "ax1.set_xlabel('Year')\n",
    "ax1.set_ylabel('Sales Count', color='b')\n",
    "ax1.tick_params('y', colors='b')\n",
    "\n",
    "# Line chart untuk Discount sum\n",
    "ax2 = ax1.twinx()\n",
    "ax2.plot(selected_year, resultDisc, color='r', marker='o', label='Discount Sum')\n",
    "ax2.set_ylabel('Discount Sum', color='r')\n",
    "ax2.tick_params('y', colors='r')\n",
    "\n",
    "# Menambahkan judul dan legend\n",
    "plt.title('Sales Count and Discount Sum Over Years')\n",
    "fig.tight_layout()\n",
    "fig.legend(loc='upper right', bbox_to_anchor=(0.7, 0.9))\n",
    "\n",
    "# Menampilkan plot\n",
    "plt.show()"
   ]
  },
  {
   "cell_type": "markdown",
   "id": "7f325082",
   "metadata": {},
   "source": [
    "jika dilihat dari pola data diatas dapat diartikan bahwa ketika diskon naik retensi pembelian juga ikut naik, dan ketika diskon turun retensi pembelian juga ikut turun. Hal tersebut mengindikasikan bahwa pembelian terjadi ***bukan karena repeat order*** melaikkan harga yang turun atau adanya discount."
   ]
  },
  {
   "cell_type": "markdown",
   "id": "10348da7",
   "metadata": {},
   "source": [
    "### Analisis Produk yang Potensial untuk Meningkatkan Profit"
   ]
  },
  {
   "cell_type": "markdown",
   "id": "d3c9e4ef",
   "metadata": {},
   "source": [
    "Selain dengan menekan kerugian, hal sebaliknya juga dilakukan yaitu meningkatkan keuntungan. langkah selanjutnya yang dilakukan adalah mengindetifikasi produk yang potensial, yaitu produk yang memiliki retensi pembelian rendah tetapi menghasilkan profit yang tinggi."
   ]
  },
  {
   "cell_type": "code",
   "execution_count": 18,
   "id": "5fbec6d5",
   "metadata": {},
   "outputs": [
    {
     "data": {
      "text/html": [
       "<div>\n",
       "<style scoped>\n",
       "    .dataframe tbody tr th:only-of-type {\n",
       "        vertical-align: middle;\n",
       "    }\n",
       "\n",
       "    .dataframe tbody tr th {\n",
       "        vertical-align: top;\n",
       "    }\n",
       "\n",
       "    .dataframe thead th {\n",
       "        text-align: right;\n",
       "    }\n",
       "</style>\n",
       "<table border=\"1\" class=\"dataframe\">\n",
       "  <thead>\n",
       "    <tr style=\"text-align: right;\">\n",
       "      <th></th>\n",
       "      <th>Profit</th>\n",
       "      <th>Sales Count</th>\n",
       "    </tr>\n",
       "    <tr>\n",
       "      <th>Product</th>\n",
       "      <th></th>\n",
       "      <th></th>\n",
       "    </tr>\n",
       "  </thead>\n",
       "  <tbody>\n",
       "    <tr>\n",
       "      <th>Alchemy</th>\n",
       "      <td>55617.8249</td>\n",
       "      <td>4624</td>\n",
       "    </tr>\n",
       "    <tr>\n",
       "      <th>Data Smasher</th>\n",
       "      <td>41936.6357</td>\n",
       "      <td>600625</td>\n",
       "    </tr>\n",
       "    <tr>\n",
       "      <th>Marketing Suite - Gold</th>\n",
       "      <td>21278.8264</td>\n",
       "      <td>715716</td>\n",
       "    </tr>\n",
       "  </tbody>\n",
       "</table>\n",
       "</div>"
      ],
      "text/plain": [
       "                            Profit  Sales Count\n",
       "Product                                        \n",
       "Alchemy                 55617.8249  4624       \n",
       "Data Smasher            41936.6357  600625     \n",
       "Marketing Suite - Gold  21278.8264  715716     "
      ]
     },
     "execution_count": 18,
     "metadata": {},
     "output_type": "execute_result"
    }
   ],
   "source": [
    "# mencari data produk yang memiliki penjualan rendah tapi mencetak prodit tinggi\n",
    "df['Sales Count'] = df.groupby('Product')['Sales'].transform('count')\n",
    "\n",
    "# Membuat DataFrame df_prof_group\n",
    "df_prof = df[['Product', 'Sales Count', 'Profit']].sort_values(by='Profit')\n",
    "df_prof_group = df_prof.groupby('Product')[['Profit', 'Sales Count']].sum().sort_values(by='Sales Count')\n",
    "#df_prof_group\n",
    "\n",
    "# Menghitung rata-rata Profit dan Sales Count\n",
    "average_profit = df_prof_group['Profit'].mean()\n",
    "average_sc = df_prof_group['Sales Count'].mean()\n",
    "\n",
    "# Memfilter produk yang memiliki Profit dan Sales Count di atas rata-rata masing-masing\n",
    "filtered_prof_sc_group = df_prof_group[(df_prof_group['Profit'] > average_profit) & (df_prof_group['Sales Count'] < average_sc)]\n",
    "\n",
    "filtered_prof_sc_group"
   ]
  },
  {
   "cell_type": "code",
   "execution_count": 19,
   "id": "ad5c3587",
   "metadata": {},
   "outputs": [
    {
     "data": {
      "image/png": "[encoded data removed]",
      "text/plain": [
       "<Figure size 640x480 with 1 Axes>"
      ]
     },
     "metadata": {},
     "output_type": "display_data"
    }
   ],
   "source": [
    "filtered_prof_sc_group.plot(kind='bar', y=['Profit','Sales Count'], rot=0)\n",
    "plt.title('Products with Profit and Sales Count Above Average')\n",
    "plt.xlabel('Product')\n",
    "plt.ylabel('Values')\n",
    "plt.show()"
   ]
  },
  {
   "cell_type": "markdown",
   "id": "0c096ea5",
   "metadata": {},
   "source": [
    "Dari grafik bar plot diatas bisa dilihat bahwa alchemy merupakan satu-satunya product yang memberikan profit diatas rata-rata serta lebih banyak dari kuantitas penjualan"
   ]
  },
  {
   "cell_type": "code",
   "execution_count": 20,
   "id": "a7b3d734",
   "metadata": {},
   "outputs": [
    {
     "data": {
      "text/html": [
       "<div>\n",
       "<style scoped>\n",
       "    .dataframe tbody tr th:only-of-type {\n",
       "        vertical-align: middle;\n",
       "    }\n",
       "\n",
       "    .dataframe tbody tr th {\n",
       "        vertical-align: top;\n",
       "    }\n",
       "\n",
       "    .dataframe thead th {\n",
       "        text-align: right;\n",
       "    }\n",
       "</style>\n",
       "<table border=\"1\" class=\"dataframe\">\n",
       "  <thead>\n",
       "    <tr style=\"text-align: right;\">\n",
       "      <th></th>\n",
       "      <th>Profit</th>\n",
       "      <th>Sales Count</th>\n",
       "    </tr>\n",
       "    <tr>\n",
       "      <th>Product</th>\n",
       "      <th></th>\n",
       "      <th></th>\n",
       "    </tr>\n",
       "  </thead>\n",
       "  <tbody>\n",
       "    <tr>\n",
       "      <th>Alchemy</th>\n",
       "      <td>55617.8249</td>\n",
       "      <td>4624</td>\n",
       "    </tr>\n",
       "  </tbody>\n",
       "</table>\n",
       "</div>"
      ],
      "text/plain": [
       "             Profit  Sales Count\n",
       "Product                         \n",
       "Alchemy  55617.8249  4624       "
      ]
     },
     "execution_count": 20,
     "metadata": {},
     "output_type": "execute_result"
    }
   ],
   "source": [
    "#cek dimana Banyak penjualan lebih \n",
    "filtered_plus_prof_sc_group = df_prof_group[(df_prof_group['Profit'] > df_prof_group['Sales Count'])]\n",
    "filtered_plus_prof_sc_group"
   ]
  },
  {
   "cell_type": "markdown",
   "id": "d5d7c88a",
   "metadata": {},
   "source": [
    "Dari Grafik & Tabel diatas dapat dilihat bahwa Alchemy merupakan satu-satunya product yang mencetak lebih banyak profit ketimbang kuantitas penjualan. Untuk produk Data Smasher & Marketing Suits - Gold, meski mencetak laba tinggi tetapi masih membutuhkan banyak penjualan."
   ]
  },
  {
   "cell_type": "markdown",
   "id": "43d72ff2",
   "metadata": {},
   "source": [
    "### Analisis Customer yang Potensial untuk Meningkatkan Profit"
   ]
  },
  {
   "cell_type": "code",
   "execution_count": 36,
   "id": "9aec5625",
   "metadata": {},
   "outputs": [
    {
     "data": {
      "text/html": [
       "<div>\n",
       "<style scoped>\n",
       "    .dataframe tbody tr th:only-of-type {\n",
       "        vertical-align: middle;\n",
       "    }\n",
       "\n",
       "    .dataframe tbody tr th {\n",
       "        vertical-align: top;\n",
       "    }\n",
       "\n",
       "    .dataframe thead th {\n",
       "        text-align: right;\n",
       "    }\n",
       "</style>\n",
       "<table border=\"1\" class=\"dataframe\">\n",
       "  <thead>\n",
       "    <tr style=\"text-align: right;\">\n",
       "      <th></th>\n",
       "      <th>Profit</th>\n",
       "      <th>Quantity</th>\n",
       "    </tr>\n",
       "    <tr>\n",
       "      <th>Customer</th>\n",
       "      <th></th>\n",
       "      <th></th>\n",
       "    </tr>\n",
       "  </thead>\n",
       "  <tbody>\n",
       "    <tr>\n",
       "      <th>Alphabet</th>\n",
       "      <td>3980.0</td>\n",
       "      <td>181</td>\n",
       "    </tr>\n",
       "    <tr>\n",
       "      <th>Glencore</th>\n",
       "      <td>4470.0</td>\n",
       "      <td>220</td>\n",
       "    </tr>\n",
       "    <tr>\n",
       "      <th>Coca-Cola</th>\n",
       "      <td>9449.0</td>\n",
       "      <td>305</td>\n",
       "    </tr>\n",
       "    <tr>\n",
       "      <th>Sysco</th>\n",
       "      <td>3383.0</td>\n",
       "      <td>318</td>\n",
       "    </tr>\n",
       "    <tr>\n",
       "      <th>Phillips 66</th>\n",
       "      <td>5260.0</td>\n",
       "      <td>326</td>\n",
       "    </tr>\n",
       "    <tr>\n",
       "      <th>United Parcel Service</th>\n",
       "      <td>5276.0</td>\n",
       "      <td>344</td>\n",
       "    </tr>\n",
       "    <tr>\n",
       "      <th>Apple</th>\n",
       "      <td>3627.0</td>\n",
       "      <td>350</td>\n",
       "    </tr>\n",
       "  </tbody>\n",
       "</table>\n",
       "</div>"
      ],
      "text/plain": [
       "                       Profit  Quantity\n",
       "Customer                               \n",
       "Alphabet               3980.0  181     \n",
       "Glencore               4470.0  220     \n",
       "Coca-Cola              9449.0  305     \n",
       "Sysco                  3383.0  318     \n",
       "Phillips 66            5260.0  326     \n",
       "United Parcel Service  5276.0  344     \n",
       "Apple                  3627.0  350     "
      ]
     },
     "execution_count": 36,
     "metadata": {},
     "output_type": "execute_result"
    }
   ],
   "source": [
    "# mencari customer yang memiliki kuantitas permintaan yang rendah tetapi menghasilkan profit tinggi\n",
    "\n",
    "df_quan = df.groupby('Customer')[['Customer','Profit','Quantity']].sum().sort_values(by='Profit')\n",
    "\n",
    "threshold_profit = 100\n",
    "average_profit = df_quan['Profit'].mean()\n",
    "threshold_profit_final = average_profit * (threshold_profit / 100)\n",
    "\n",
    "threshold_quantity = 93\n",
    "average_quantity = df_quan['Quantity'].mean()\n",
    "threshold_quantity_final = average_quantity * (threshold_quantity / 100)\n",
    "\n",
    "df_quan_filter = df_quan[(df_quan['Profit'] > threshold_profit_final) & (df_quan['Quantity'] < threshold_quantity_final)].sort_values(by='Quantity')\n",
    "\n",
    "df_quan_filter_round = round(df_quan_filter)\n",
    "df_quan_filter_round"
   ]
  },
  {
   "cell_type": "code",
   "execution_count": 33,
   "id": "a9d8e465",
   "metadata": {},
   "outputs": [
    {
     "data": {
      "application/vnd.plotly.v1+json": {
       "config": {
        "plotlyServerURL": "https://plot.ly"
       },
       "data": [
        {
         "hovertemplate": "Customer=%{text}<br>Profit=%{marker.size}<br>Quantity=%{y}<extra></extra>",
         "legendgroup": "Sysco",
         "marker": {
          "color": "#636efa",
          "size": [
           20298
          ],
          "sizemode": "area",
          "sizeref": 23.6225,
          "symbol": "circle"
         },
         "mode": "markers+text",
         "name": "Sysco",
         "orientation": "v",
         "showlegend": true,
         "text": [
          "Sysco"
         ],
         "type": "scatter",
         "x": [
          3383
         ],
         "xaxis": "x",
         "y": [
          318
         ],
         "yaxis": "y"
        },
        {
         "hovertemplate": "Customer=%{text}<br>Profit=%{marker.size}<br>Quantity=%{y}<extra></extra>",
         "legendgroup": "Apple",
         "marker": {
          "color": "#EF553B",
          "size": [
           20298
          ],
          "sizemode": "area",
          "sizeref": 23.6225,
          "symbol": "circle"
         },
         "mode": "markers+text",
         "name": "Apple",
         "orientation": "v",
         "showlegend": true,
         "text": [
          "Apple"
         ],
         "type": "scatter",
         "x": [
          3627
         ],
         "xaxis": "x",
         "y": [
          350
         ],
         "yaxis": "y"
        },
        {
         "hovertemplate": "Customer=%{text}<br>Profit=%{marker.size}<br>Quantity=%{y}<extra></extra>",
         "legendgroup": "Alphabet",
         "marker": {
          "color": "#00cc96",
          "size": [
           20298
          ],
          "sizemode": "area",
          "sizeref": 23.6225,
          "symbol": "circle"
         },
         "mode": "markers+text",
         "name": "Alphabet",
         "orientation": "v",
         "showlegend": true,
         "text": [
          "Alphabet"
         ],
         "type": "scatter",
         "x": [
          3980
         ],
         "xaxis": "x",
         "y": [
          181
         ],
         "yaxis": "y"
        },
        {
         "hovertemplate": "Customer=%{text}<br>Profit=%{marker.size}<br>Quantity=%{y}<extra></extra>",
         "legendgroup": "Glencore",
         "marker": {
          "color": "#ab63fa",
          "size": [
           20298
          ],
          "sizemode": "area",
          "sizeref": 23.6225,
          "symbol": "circle"
         },
         "mode": "markers+text",
         "name": "Glencore",
         "orientation": "v",
         "showlegend": true,
         "text": [
          "Glencore"
         ],
         "type": "scatter",
         "x": [
          4470
         ],
         "xaxis": "x",
         "y": [
          220
         ],
         "yaxis": "y"
        },
        {
         "hovertemplate": "Customer=%{text}<br>Profit=%{marker.size}<br>Quantity=%{y}<extra></extra>",
         "legendgroup": "Phillips 66",
         "marker": {
          "color": "#FFA15A",
          "size": [
           20298
          ],
          "sizemode": "area",
          "sizeref": 23.6225,
          "symbol": "circle"
         },
         "mode": "markers+text",
         "name": "Phillips 66",
         "orientation": "v",
         "showlegend": true,
         "text": [
          "Phillips 66"
         ],
         "type": "scatter",
         "x": [
          5260
         ],
         "xaxis": "x",
         "y": [
          326
         ],
         "yaxis": "y"
        },
        {
         "hovertemplate": "Customer=%{text}<br>Profit=%{marker.size}<br>Quantity=%{y}<extra></extra>",
         "legendgroup": "United Parcel Service",
         "marker": {
          "color": "#19d3f3",
          "size": [
           20298
          ],
          "sizemode": "area",
          "sizeref": 23.6225,
          "symbol": "circle"
         },
         "mode": "markers+text",
         "name": "United Parcel Service",
         "orientation": "v",
         "showlegend": true,
         "text": [
          "United Parcel Service"
         ],
         "type": "scatter",
         "x": [
          5276
         ],
         "xaxis": "x",
         "y": [
          344
         ],
         "yaxis": "y"
        },
        {
         "hovertemplate": "Customer=%{text}<br>Profit=%{marker.size}<br>Quantity=%{y}<extra></extra>",
         "legendgroup": "Coca-Cola",
         "marker": {
          "color": "#FF6692",
          "size": [
           20298
          ],
          "sizemode": "area",
          "sizeref": 23.6225,
          "symbol": "circle"
         },
         "mode": "markers+text",
         "name": "Coca-Cola",
         "orientation": "v",
         "showlegend": true,
         "text": [
          "Coca-Cola"
         ],
         "type": "scatter",
         "x": [
          9449
         ],
         "xaxis": "x",
         "y": [
          305
         ],
         "yaxis": "y"
        }
       ],
       "layout": {
        "legend": {
         "itemsizing": "constant",
         "title": {
          "text": "Customer"
         },
         "tracegroupgap": 0
        },
        "template": {
         "data": {
          "bar": [
           {
            "error_x": {
             "color": "#2a3f5f"
            },
            "error_y": {
             "color": "#2a3f5f"
            },
            "marker": {
             "line": {
              "color": "white",
              "width": 0.5
             },
             "pattern": {
              "fillmode": "overlay",
              "size": 10,
              "solidity": 0.2
             }
            },
            "type": "bar"
           }
          ],
          "barpolar": [
           {
            "marker": {
             "line": {
              "color": "white",
              "width": 0.5
             },
             "pattern": {
              "fillmode": "overlay",
              "size": 10,
              "solidity": 0.2
             }
            },
            "type": "barpolar"
           }
          ],
          "carpet": [
           {
            "aaxis": {
             "endlinecolor": "#2a3f5f",
             "gridcolor": "#C8D4E3",
             "linecolor": "#C8D4E3",
             "minorgridcolor": "#C8D4E3",
             "startlinecolor": "#2a3f5f"
            },
            "baxis": {
             "endlinecolor": "#2a3f5f",
             "gridcolor": "#C8D4E3",
             "linecolor": "#C8D4E3",
             "minorgridcolor": "#C8D4E3",
             "startlinecolor": "#2a3f5f"
            },
            "type": "carpet"
           }
          ],
          "choropleth": [
           {
            "colorbar": {
             "outlinewidth": 0,
             "ticks": ""
            },
            "type": "choropleth"
           }
          ],
          "contour": [
           {
            "colorbar": {
             "outlinewidth": 0,
             "ticks": ""
            },
            "colorscale": [
             [
              0,
              "#0d0887"
             ],
             [
              0.1111111111111111,
              "#46039f"
             ],
             [
              0.2222222222222222,
              "#7201a8"
             ],
             [
              0.3333333333333333,
              "#9c179e"
             ],
             [
              0.4444444444444444,
              "#bd3786"
             ],
             [
              0.5555555555555556,
              "#d8576b"
             ],
             [
              0.6666666666666666,
              "#ed7953"
             ],
             [
              0.7777777777777778,
              "#fb9f3a"
             ],
             [
              0.8888888888888888,
              "#fdca26"
             ],
             [
              1,
              "#f0f921"
             ]
            ],
            "type": "contour"
           }
          ],
          "contourcarpet": [
           {
            "colorbar": {
             "outlinewidth": 0,
             "ticks": ""
            },
            "type": "contourcarpet"
           }
          ],
          "heatmap": [
           {
            "colorbar": {
             "outlinewidth": 0,
             "ticks": ""
            },
            "colorscale": [
             [
              0,
              "#0d0887"
             ],
             [
              0.1111111111111111,
              "#46039f"
             ],
             [
              0.2222222222222222,
              "#7201a8"
             ],
             [
              0.3333333333333333,
              "#9c179e"
             ],
             [
              0.4444444444444444,
              "#bd3786"
             ],
             [
              0.5555555555555556,
              "#d8576b"
             ],
             [
              0.6666666666666666,
              "#ed7953"
             ],
             [
              0.7777777777777778,
              "#fb9f3a"
             ],
             [
              0.8888888888888888,
              "#fdca26"
             ],
             [
              1,
              "#f0f921"
             ]
            ],
            "type": "heatmap"
           }
          ],
          "heatmapgl": [
           {
            "colorbar": {
             "outlinewidth": 0,
             "ticks": ""
            },
            "colorscale": [
             [
              0,
              "#0d0887"
             ],
             [
              0.1111111111111111,
              "#46039f"
             ],
             [
              0.2222222222222222,
              "#7201a8"
             ],
             [
              0.3333333333333333,
              "#9c179e"
             ],
             [
              0.4444444444444444,
              "#bd3786"
             ],
             [
              0.5555555555555556,
              "#d8576b"
             ],
             [
              0.6666666666666666,
              "#ed7953"
             ],
             [
              0.7777777777777778,
              "#fb9f3a"
             ],
             [
              0.8888888888888888,
              "#fdca26"
             ],
             [
              1,
              "#f0f921"
             ]
            ],
            "type": "heatmapgl"
           }
          ],
          "histogram": [
           {
            "marker": {
             "pattern": {
              "fillmode": "overlay",
              "size": 10,
              "solidity": 0.2
             }
            },
            "type": "histogram"
           }
          ],
          "histogram2d": [
           {
            "colorbar": {
             "outlinewidth": 0,
             "ticks": ""
            },
            "colorscale": [
             [
              0,
              "#0d0887"
             ],
             [
              0.1111111111111111,
              "#46039f"
             ],
             [
              0.2222222222222222,
              "#7201a8"
             ],
             [
              0.3333333333333333,
              "#9c179e"
             ],
             [
              0.4444444444444444,
              "#bd3786"
             ],
             [
              0.5555555555555556,
              "#d8576b"
             ],
             [
              0.6666666666666666,
              "#ed7953"
             ],
             [
              0.7777777777777778,
              "#fb9f3a"
             ],
             [
              0.8888888888888888,
              "#fdca26"
             ],
             [
              1,
              "#f0f921"
             ]
            ],
            "type": "histogram2d"
           }
          ],
          "histogram2dcontour": [
           {
            "colorbar": {
             "outlinewidth": 0,
             "ticks": ""
            },
            "colorscale": [
             [
              0,
              "#0d0887"
             ],
             [
              0.1111111111111111,
              "#46039f"
             ],
             [
              0.2222222222222222,
              "#7201a8"
             ],
             [
              0.3333333333333333,
              "#9c179e"
             ],
             [
              0.4444444444444444,
              "#bd3786"
             ],
             [
              0.5555555555555556,
              "#d8576b"
             ],
             [
              0.6666666666666666,
              "#ed7953"
             ],
             [
              0.7777777777777778,
              "#fb9f3a"
             ],
             [
              0.8888888888888888,
              "#fdca26"
             ],
             [
              1,
              "#f0f921"
             ]
            ],
            "type": "histogram2dcontour"
           }
          ],
          "mesh3d": [
           {
            "colorbar": {
             "outlinewidth": 0,
             "ticks": ""
            },
            "type": "mesh3d"
           }
          ],
          "parcoords": [
           {
            "line": {
             "colorbar": {
              "outlinewidth": 0,
              "ticks": ""
             }
            },
            "type": "parcoords"
           }
          ],
          "pie": [
           {
            "automargin": true,
            "type": "pie"
           }
          ],
          "scatter": [
           {
            "fillpattern": {
             "fillmode": "overlay",
             "size": 10,
             "solidity": 0.2
            },
            "type": "scatter"
           }
          ],
          "scatter3d": [
           {
            "line": {
             "colorbar": {
              "outlinewidth": 0,
              "ticks": ""
             }
            },
            "marker": {
             "colorbar": {
              "outlinewidth": 0,
              "ticks": ""
             }
            },
            "type": "scatter3d"
           }
          ],
          "scattercarpet": [
           {
            "marker": {
             "colorbar": {
              "outlinewidth": 0,
              "ticks": ""
             }
            },
            "type": "scattercarpet"
           }
          ],
          "scattergeo": [
           {
            "marker": {
             "colorbar": {
              "outlinewidth": 0,
              "ticks": ""
             }
            },
            "type": "scattergeo"
           }
          ],
          "scattergl": [
           {
            "marker": {
             "colorbar": {
              "outlinewidth": 0,
              "ticks": ""
             }
            },
            "type": "scattergl"
           }
          ],
          "scattermapbox": [
           {
            "marker": {
             "colorbar": {
              "outlinewidth": 0,
              "ticks": ""
             }
            },
            "type": "scattermapbox"
           }
          ],
          "scatterpolar": [
           {
            "marker": {
             "colorbar": {
              "outlinewidth": 0,
              "ticks": ""
             }
            },
            "type": "scatterpolar"
           }
          ],
          "scatterpolargl": [
           {
            "marker": {
             "colorbar": {
              "outlinewidth": 0,
              "ticks": ""
             }
            },
            "type": "scatterpolargl"
           }
          ],
          "scatterternary": [
           {
            "marker": {
             "colorbar": {
              "outlinewidth": 0,
              "ticks": ""
             }
            },
            "type": "scatterternary"
           }
          ],
          "surface": [
           {
            "colorbar": {
             "outlinewidth": 0,
             "ticks": ""
            },
            "colorscale": [
             [
              0,
              "#0d0887"
             ],
             [
              0.1111111111111111,
              "#46039f"
             ],
             [
              0.2222222222222222,
              "#7201a8"
             ],
             [
              0.3333333333333333,
              "#9c179e"
             ],
             [
              0.4444444444444444,
              "#bd3786"
             ],
             [
              0.5555555555555556,
              "#d8576b"
             ],
             [
              0.6666666666666666,
              "#ed7953"
             ],
             [
              0.7777777777777778,
              "#fb9f3a"
             ],
             [
              0.8888888888888888,
              "#fdca26"
             ],
             [
              1,
              "#f0f921"
             ]
            ],
            "type": "surface"
           }
          ],
          "table": [
           {
            "cells": {
             "fill": {
              "color": "#EBF0F8"
             },
             "line": {
              "color": "white"
             }
            },
            "header": {
             "fill": {
              "color": "#C8D4E3"
             },
             "line": {
              "color": "white"
             }
            },
            "type": "table"
           }
          ]
         },
         "layout": {
          "annotationdefaults": {
           "arrowcolor": "#2a3f5f",
           "arrowhead": 0,
           "arrowwidth": 1
          },
          "autotypenumbers": "strict",
          "coloraxis": {
           "colorbar": {
            "outlinewidth": 0,
            "ticks": ""
           }
          },
          "colorscale": {
           "diverging": [
            [
             0,
             "#8e0152"
            ],
            [
             0.1,
             "#c51b7d"
            ],
            [
             0.2,
             "#de77ae"
            ],
            [
             0.3,
             "#f1b6da"
            ],
            [
             0.4,
             "#fde0ef"
            ],
            [
             0.5,
             "#f7f7f7"
            ],
            [
             0.6,
             "#e6f5d0"
            ],
            [
             0.7,
             "#b8e186"
            ],
            [
             0.8,
             "#7fbc41"
            ],
            [
             0.9,
             "#4d9221"
            ],
            [
             1,
             "#276419"
            ]
           ],
           "sequential": [
            [
             0,
             "#0d0887"
            ],
            [
             0.1111111111111111,
             "#46039f"
            ],
            [
             0.2222222222222222,
             "#7201a8"
            ],
            [
             0.3333333333333333,
             "#9c179e"
            ],
            [
             0.4444444444444444,
             "#bd3786"
            ],
            [
             0.5555555555555556,
             "#d8576b"
            ],
            [
             0.6666666666666666,
             "#ed7953"
            ],
            [
             0.7777777777777778,
             "#fb9f3a"
            ],
            [
             0.8888888888888888,
             "#fdca26"
            ],
            [
             1,
             "#f0f921"
            ]
           ],
           "sequentialminus": [
            [
             0,
             "#0d0887"
            ],
            [
             0.1111111111111111,
             "#46039f"
            ],
            [
             0.2222222222222222,
             "#7201a8"
            ],
            [
             0.3333333333333333,
             "#9c179e"
            ],
            [
             0.4444444444444444,
             "#bd3786"
            ],
            [
             0.5555555555555556,
             "#d8576b"
            ],
            [
             0.6666666666666666,
             "#ed7953"
            ],
            [
             0.7777777777777778,
             "#fb9f3a"
            ],
            [
             0.8888888888888888,
             "#fdca26"
            ],
            [
             1,
             "#f0f921"
            ]
           ]
          },
          "colorway": [
           "#636efa",
           "#EF553B",
           "#00cc96",
           "#ab63fa",
           "#FFA15A",
           "#19d3f3",
           "#FF6692",
           "#B6E880",
           "#FF97FF",
           "#FECB52"
          ],
          "font": {
           "color": "#2a3f5f"
          },
          "geo": {
           "bgcolor": "white",
           "lakecolor": "white",
           "landcolor": "white",
           "showlakes": true,
           "showland": true,
           "subunitcolor": "#C8D4E3"
          },
          "hoverlabel": {
           "align": "left"
          },
          "hovermode": "closest",
          "mapbox": {
           "style": "light"
          },
          "paper_bgcolor": "white",
          "plot_bgcolor": "white",
          "polar": {
           "angularaxis": {
            "gridcolor": "#EBF0F8",
            "linecolor": "#EBF0F8",
            "ticks": ""
           },
           "bgcolor": "white",
           "radialaxis": {
            "gridcolor": "#EBF0F8",
            "linecolor": "#EBF0F8",
            "ticks": ""
           }
          },
          "scene": {
           "xaxis": {
            "backgroundcolor": "white",
            "gridcolor": "#DFE8F3",
            "gridwidth": 2,
            "linecolor": "#EBF0F8",
            "showbackground": true,
            "ticks": "",
            "zerolinecolor": "#EBF0F8"
           },
           "yaxis": {
            "backgroundcolor": "white",
            "gridcolor": "#DFE8F3",
            "gridwidth": 2,
            "linecolor": "#EBF0F8",
            "showbackground": true,
            "ticks": "",
            "zerolinecolor": "#EBF0F8"
           },
           "zaxis": {
            "backgroundcolor": "white",
            "gridcolor": "#DFE8F3",
            "gridwidth": 2,
            "linecolor": "#EBF0F8",
            "showbackground": true,
            "ticks": "",
            "zerolinecolor": "#EBF0F8"
           }
          },
          "shapedefaults": {
           "line": {
            "color": "#2a3f5f"
           }
          },
          "ternary": {
           "aaxis": {
            "gridcolor": "#DFE8F3",
            "linecolor": "#A2B1C6",
            "ticks": ""
           },
           "baxis": {
            "gridcolor": "#DFE8F3",
            "linecolor": "#A2B1C6",
            "ticks": ""
           },
           "bgcolor": "white",
           "caxis": {
            "gridcolor": "#DFE8F3",
            "linecolor": "#A2B1C6",
            "ticks": ""
           }
          },
          "title": {
           "x": 0.05
          },
          "xaxis": {
           "automargin": true,
           "gridcolor": "#EBF0F8",
           "linecolor": "#EBF0F8",
           "ticks": "",
           "title": {
            "standoff": 15
           },
           "zerolinecolor": "#EBF0F8",
           "zerolinewidth": 2
          },
          "yaxis": {
           "automargin": true,
           "gridcolor": "#EBF0F8",
           "linecolor": "#EBF0F8",
           "ticks": "",
           "title": {
            "standoff": 15
           },
           "zerolinecolor": "#EBF0F8",
           "zerolinewidth": 2
          }
         }
        },
        "title": {
         "text": "Packed Bubble Chart"
        },
        "xaxis": {
         "anchor": "y",
         "domain": [
          0,
          1
         ],
         "title": {
          "text": "Profit"
         }
        },
        "yaxis": {
         "anchor": "x",
         "domain": [
          0,
          1
         ],
         "title": {
          "text": "Quantity"
         }
        }
       }
      },
      "text/html": [
       "<div>                            <div id=\"fd517f53-67d9-42cb-bef4-271755c1ff05\" class=\"plotly-graph-div\" style=\"height:525px; width:100%;\"></div>            <script type=\"text/javascript\">                require([\"plotly\"], function(Plotly) {                    window.PLOTLYENV=window.PLOTLYENV || {};                                    if (document.getElementById(\"fd517f53-67d9-42cb-bef4-271755c1ff05\")) {                    Plotly.newPlot(                        \"fd517f53-67d9-42cb-bef4-271755c1ff05\",                        [{\"hovertemplate\":\"Customer=%{text}<br>Profit=%{marker.size}<br>Quantity=%{y}<extra></extra>\",\"legendgroup\":\"Sysco\",\"marker\":{\"color\":\"#636efa\",\"size\":[20298.0],\"sizemode\":\"area\",\"sizeref\":23.6225,\"symbol\":\"circle\"},\"mode\":\"markers+text\",\"name\":\"Sysco\",\"orientation\":\"v\",\"showlegend\":true,\"text\":[\"Sysco\"],\"x\":[3383.0],\"xaxis\":\"x\",\"y\":[318],\"yaxis\":\"y\",\"type\":\"scatter\"},{\"hovertemplate\":\"Customer=%{text}<br>Profit=%{marker.size}<br>Quantity=%{y}<extra></extra>\",\"legendgroup\":\"Apple\",\"marker\":{\"color\":\"#EF553B\",\"size\":[20298.0],\"sizemode\":\"area\",\"sizeref\":23.6225,\"symbol\":\"circle\"},\"mode\":\"markers+text\",\"name\":\"Apple\",\"orientation\":\"v\",\"showlegend\":true,\"text\":[\"Apple\"],\"x\":[3627.0],\"xaxis\":\"x\",\"y\":[350],\"yaxis\":\"y\",\"type\":\"scatter\"},{\"hovertemplate\":\"Customer=%{text}<br>Profit=%{marker.size}<br>Quantity=%{y}<extra></extra>\",\"legendgroup\":\"Alphabet\",\"marker\":{\"color\":\"#00cc96\",\"size\":[20298.0],\"sizemode\":\"area\",\"sizeref\":23.6225,\"symbol\":\"circle\"},\"mode\":\"markers+text\",\"name\":\"Alphabet\",\"orientation\":\"v\",\"showlegend\":true,\"text\":[\"Alphabet\"],\"x\":[3980.0],\"xaxis\":\"x\",\"y\":[181],\"yaxis\":\"y\",\"type\":\"scatter\"},{\"hovertemplate\":\"Customer=%{text}<br>Profit=%{marker.size}<br>Quantity=%{y}<extra></extra>\",\"legendgroup\":\"Glencore\",\"marker\":{\"color\":\"#ab63fa\",\"size\":[20298.0],\"sizemode\":\"area\",\"sizeref\":23.6225,\"symbol\":\"circle\"},\"mode\":\"markers+text\",\"name\":\"Glencore\",\"orientation\":\"v\",\"showlegend\":true,\"text\":[\"Glencore\"],\"x\":[4470.0],\"xaxis\":\"x\",\"y\":[220],\"yaxis\":\"y\",\"type\":\"scatter\"},{\"hovertemplate\":\"Customer=%{text}<br>Profit=%{marker.size}<br>Quantity=%{y}<extra></extra>\",\"legendgroup\":\"Phillips 66\",\"marker\":{\"color\":\"#FFA15A\",\"size\":[20298.0],\"sizemode\":\"area\",\"sizeref\":23.6225,\"symbol\":\"circle\"},\"mode\":\"markers+text\",\"name\":\"Phillips 66\",\"orientation\":\"v\",\"showlegend\":true,\"text\":[\"Phillips 66\"],\"x\":[5260.0],\"xaxis\":\"x\",\"y\":[326],\"yaxis\":\"y\",\"type\":\"scatter\"},{\"hovertemplate\":\"Customer=%{text}<br>Profit=%{marker.size}<br>Quantity=%{y}<extra></extra>\",\"legendgroup\":\"United Parcel Service\",\"marker\":{\"color\":\"#19d3f3\",\"size\":[20298.0],\"sizemode\":\"area\",\"sizeref\":23.6225,\"symbol\":\"circle\"},\"mode\":\"markers+text\",\"name\":\"United Parcel Service\",\"orientation\":\"v\",\"showlegend\":true,\"text\":[\"United Parcel Service\"],\"x\":[5276.0],\"xaxis\":\"x\",\"y\":[344],\"yaxis\":\"y\",\"type\":\"scatter\"},{\"hovertemplate\":\"Customer=%{text}<br>Profit=%{marker.size}<br>Quantity=%{y}<extra></extra>\",\"legendgroup\":\"Coca-Cola\",\"marker\":{\"color\":\"#FF6692\",\"size\":[20298.0],\"sizemode\":\"area\",\"sizeref\":23.6225,\"symbol\":\"circle\"},\"mode\":\"markers+text\",\"name\":\"Coca-Cola\",\"orientation\":\"v\",\"showlegend\":true,\"text\":[\"Coca-Cola\"],\"x\":[9449.0],\"xaxis\":\"x\",\"y\":[305],\"yaxis\":\"y\",\"type\":\"scatter\"}],                        {\"template\":{\"data\":{\"barpolar\":[{\"marker\":{\"line\":{\"color\":\"white\",\"width\":0.5},\"pattern\":{\"fillmode\":\"overlay\",\"size\":10,\"solidity\":0.2}},\"type\":\"barpolar\"}],\"bar\":[{\"error_x\":{\"color\":\"#2a3f5f\"},\"error_y\":{\"color\":\"#2a3f5f\"},\"marker\":{\"line\":{\"color\":\"white\",\"width\":0.5},\"pattern\":{\"fillmode\":\"overlay\",\"size\":10,\"solidity\":0.2}},\"type\":\"bar\"}],\"carpet\":[{\"aaxis\":{\"endlinecolor\":\"#2a3f5f\",\"gridcolor\":\"#C8D4E3\",\"linecolor\":\"#C8D4E3\",\"minorgridcolor\":\"#C8D4E3\",\"startlinecolor\":\"#2a3f5f\"},\"baxis\":{\"endlinecolor\":\"#2a3f5f\",\"gridcolor\":\"#C8D4E3\",\"linecolor\":\"#C8D4E3\",\"minorgridcolor\":\"#C8D4E3\",\"startlinecolor\":\"#2a3f5f\"},\"type\":\"carpet\"}],\"choropleth\":[{\"colorbar\":{\"outlinewidth\":0,\"ticks\":\"\"},\"type\":\"choropleth\"}],\"contourcarpet\":[{\"colorbar\":{\"outlinewidth\":0,\"ticks\":\"\"},\"type\":\"contourcarpet\"}],\"contour\":[{\"colorbar\":{\"outlinewidth\":0,\"ticks\":\"\"},\"colorscale\":[[0.0,\"#0d0887\"],[0.1111111111111111,\"#46039f\"],[0.2222222222222222,\"#7201a8\"],[0.3333333333333333,\"#9c179e\"],[0.4444444444444444,\"#bd3786\"],[0.5555555555555556,\"#d8576b\"],[0.6666666666666666,\"#ed7953\"],[0.7777777777777778,\"#fb9f3a\"],[0.8888888888888888,\"#fdca26\"],[1.0,\"#f0f921\"]],\"type\":\"contour\"}],\"heatmapgl\":[{\"colorbar\":{\"outlinewidth\":0,\"ticks\":\"\"},\"colorscale\":[[0.0,\"#0d0887\"],[0.1111111111111111,\"#46039f\"],[0.2222222222222222,\"#7201a8\"],[0.3333333333333333,\"#9c179e\"],[0.4444444444444444,\"#bd3786\"],[0.5555555555555556,\"#d8576b\"],[0.6666666666666666,\"#ed7953\"],[0.7777777777777778,\"#fb9f3a\"],[0.8888888888888888,\"#fdca26\"],[1.0,\"#f0f921\"]],\"type\":\"heatmapgl\"}],\"heatmap\":[{\"colorbar\":{\"outlinewidth\":0,\"ticks\":\"\"},\"colorscale\":[[0.0,\"#0d0887\"],[0.1111111111111111,\"#46039f\"],[0.2222222222222222,\"#7201a8\"],[0.3333333333333333,\"#9c179e\"],[0.4444444444444444,\"#bd3786\"],[0.5555555555555556,\"#d8576b\"],[0.6666666666666666,\"#ed7953\"],[0.7777777777777778,\"#fb9f3a\"],[0.8888888888888888,\"#fdca26\"],[1.0,\"#f0f921\"]],\"type\":\"heatmap\"}],\"histogram2dcontour\":[{\"colorbar\":{\"outlinewidth\":0,\"ticks\":\"\"},\"colorscale\":[[0.0,\"#0d0887\"],[0.1111111111111111,\"#46039f\"],[0.2222222222222222,\"#7201a8\"],[0.3333333333333333,\"#9c179e\"],[0.4444444444444444,\"#bd3786\"],[0.5555555555555556,\"#d8576b\"],[0.6666666666666666,\"#ed7953\"],[0.7777777777777778,\"#fb9f3a\"],[0.8888888888888888,\"#fdca26\"],[1.0,\"#f0f921\"]],\"type\":\"histogram2dcontour\"}],\"histogram2d\":[{\"colorbar\":{\"outlinewidth\":0,\"ticks\":\"\"},\"colorscale\":[[0.0,\"#0d0887\"],[0.1111111111111111,\"#46039f\"],[0.2222222222222222,\"#7201a8\"],[0.3333333333333333,\"#9c179e\"],[0.4444444444444444,\"#bd3786\"],[0.5555555555555556,\"#d8576b\"],[0.6666666666666666,\"#ed7953\"],[0.7777777777777778,\"#fb9f3a\"],[0.8888888888888888,\"#fdca26\"],[1.0,\"#f0f921\"]],\"type\":\"histogram2d\"}],\"histogram\":[{\"marker\":{\"pattern\":{\"fillmode\":\"overlay\",\"size\":10,\"solidity\":0.2}},\"type\":\"histogram\"}],\"mesh3d\":[{\"colorbar\":{\"outlinewidth\":0,\"ticks\":\"\"},\"type\":\"mesh3d\"}],\"parcoords\":[{\"line\":{\"colorbar\":{\"outlinewidth\":0,\"ticks\":\"\"}},\"type\":\"parcoords\"}],\"pie\":[{\"automargin\":true,\"type\":\"pie\"}],\"scatter3d\":[{\"line\":{\"colorbar\":{\"outlinewidth\":0,\"ticks\":\"\"}},\"marker\":{\"colorbar\":{\"outlinewidth\":0,\"ticks\":\"\"}},\"type\":\"scatter3d\"}],\"scattercarpet\":[{\"marker\":{\"colorbar\":{\"outlinewidth\":0,\"ticks\":\"\"}},\"type\":\"scattercarpet\"}],\"scattergeo\":[{\"marker\":{\"colorbar\":{\"outlinewidth\":0,\"ticks\":\"\"}},\"type\":\"scattergeo\"}],\"scattergl\":[{\"marker\":{\"colorbar\":{\"outlinewidth\":0,\"ticks\":\"\"}},\"type\":\"scattergl\"}],\"scattermapbox\":[{\"marker\":{\"colorbar\":{\"outlinewidth\":0,\"ticks\":\"\"}},\"type\":\"scattermapbox\"}],\"scatterpolargl\":[{\"marker\":{\"colorbar\":{\"outlinewidth\":0,\"ticks\":\"\"}},\"type\":\"scatterpolargl\"}],\"scatterpolar\":[{\"marker\":{\"colorbar\":{\"outlinewidth\":0,\"ticks\":\"\"}},\"type\":\"scatterpolar\"}],\"scatter\":[{\"fillpattern\":{\"fillmode\":\"overlay\",\"size\":10,\"solidity\":0.2},\"type\":\"scatter\"}],\"scatterternary\":[{\"marker\":{\"colorbar\":{\"outlinewidth\":0,\"ticks\":\"\"}},\"type\":\"scatterternary\"}],\"surface\":[{\"colorbar\":{\"outlinewidth\":0,\"ticks\":\"\"},\"colorscale\":[[0.0,\"#0d0887\"],[0.1111111111111111,\"#46039f\"],[0.2222222222222222,\"#7201a8\"],[0.3333333333333333,\"#9c179e\"],[0.4444444444444444,\"#bd3786\"],[0.5555555555555556,\"#d8576b\"],[0.6666666666666666,\"#ed7953\"],[0.7777777777777778,\"#fb9f3a\"],[0.8888888888888888,\"#fdca26\"],[1.0,\"#f0f921\"]],\"type\":\"surface\"}],\"table\":[{\"cells\":{\"fill\":{\"color\":\"#EBF0F8\"},\"line\":{\"color\":\"white\"}},\"header\":{\"fill\":{\"color\":\"#C8D4E3\"},\"line\":{\"color\":\"white\"}},\"type\":\"table\"}]},\"layout\":{\"annotationdefaults\":{\"arrowcolor\":\"#2a3f5f\",\"arrowhead\":0,\"arrowwidth\":1},\"autotypenumbers\":\"strict\",\"coloraxis\":{\"colorbar\":{\"outlinewidth\":0,\"ticks\":\"\"}},\"colorscale\":{\"diverging\":[[0,\"#8e0152\"],[0.1,\"#c51b7d\"],[0.2,\"#de77ae\"],[0.3,\"#f1b6da\"],[0.4,\"#fde0ef\"],[0.5,\"#f7f7f7\"],[0.6,\"#e6f5d0\"],[0.7,\"#b8e186\"],[0.8,\"#7fbc41\"],[0.9,\"#4d9221\"],[1,\"#276419\"]],\"sequential\":[[0.0,\"#0d0887\"],[0.1111111111111111,\"#46039f\"],[0.2222222222222222,\"#7201a8\"],[0.3333333333333333,\"#9c179e\"],[0.4444444444444444,\"#bd3786\"],[0.5555555555555556,\"#d8576b\"],[0.6666666666666666,\"#ed7953\"],[0.7777777777777778,\"#fb9f3a\"],[0.8888888888888888,\"#fdca26\"],[1.0,\"#f0f921\"]],\"sequentialminus\":[[0.0,\"#0d0887\"],[0.1111111111111111,\"#46039f\"],[0.2222222222222222,\"#7201a8\"],[0.3333333333333333,\"#9c179e\"],[0.4444444444444444,\"#bd3786\"],[0.5555555555555556,\"#d8576b\"],[0.6666666666666666,\"#ed7953\"],[0.7777777777777778,\"#fb9f3a\"],[0.8888888888888888,\"#fdca26\"],[1.0,\"#f0f921\"]]},\"colorway\":[\"#636efa\",\"#EF553B\",\"#00cc96\",\"#ab63fa\",\"#FFA15A\",\"#19d3f3\",\"#FF6692\",\"#B6E880\",\"#FF97FF\",\"#FECB52\"],\"font\":{\"color\":\"#2a3f5f\"},\"geo\":{\"bgcolor\":\"white\",\"lakecolor\":\"white\",\"landcolor\":\"white\",\"showlakes\":true,\"showland\":true,\"subunitcolor\":\"#C8D4E3\"},\"hoverlabel\":{\"align\":\"left\"},\"hovermode\":\"closest\",\"mapbox\":{\"style\":\"light\"},\"paper_bgcolor\":\"white\",\"plot_bgcolor\":\"white\",\"polar\":{\"angularaxis\":{\"gridcolor\":\"#EBF0F8\",\"linecolor\":\"#EBF0F8\",\"ticks\":\"\"},\"bgcolor\":\"white\",\"radialaxis\":{\"gridcolor\":\"#EBF0F8\",\"linecolor\":\"#EBF0F8\",\"ticks\":\"\"}},\"scene\":{\"xaxis\":{\"backgroundcolor\":\"white\",\"gridcolor\":\"#DFE8F3\",\"gridwidth\":2,\"linecolor\":\"#EBF0F8\",\"showbackground\":true,\"ticks\":\"\",\"zerolinecolor\":\"#EBF0F8\"},\"yaxis\":{\"backgroundcolor\":\"white\",\"gridcolor\":\"#DFE8F3\",\"gridwidth\":2,\"linecolor\":\"#EBF0F8\",\"showbackground\":true,\"ticks\":\"\",\"zerolinecolor\":\"#EBF0F8\"},\"zaxis\":{\"backgroundcolor\":\"white\",\"gridcolor\":\"#DFE8F3\",\"gridwidth\":2,\"linecolor\":\"#EBF0F8\",\"showbackground\":true,\"ticks\":\"\",\"zerolinecolor\":\"#EBF0F8\"}},\"shapedefaults\":{\"line\":{\"color\":\"#2a3f5f\"}},\"ternary\":{\"aaxis\":{\"gridcolor\":\"#DFE8F3\",\"linecolor\":\"#A2B1C6\",\"ticks\":\"\"},\"baxis\":{\"gridcolor\":\"#DFE8F3\",\"linecolor\":\"#A2B1C6\",\"ticks\":\"\"},\"bgcolor\":\"white\",\"caxis\":{\"gridcolor\":\"#DFE8F3\",\"linecolor\":\"#A2B1C6\",\"ticks\":\"\"}},\"title\":{\"x\":0.05},\"xaxis\":{\"automargin\":true,\"gridcolor\":\"#EBF0F8\",\"linecolor\":\"#EBF0F8\",\"ticks\":\"\",\"title\":{\"standoff\":15},\"zerolinecolor\":\"#EBF0F8\",\"zerolinewidth\":2},\"yaxis\":{\"automargin\":true,\"gridcolor\":\"#EBF0F8\",\"linecolor\":\"#EBF0F8\",\"ticks\":\"\",\"title\":{\"standoff\":15},\"zerolinecolor\":\"#EBF0F8\",\"zerolinewidth\":2}}},\"xaxis\":{\"anchor\":\"y\",\"domain\":[0.0,1.0],\"title\":{\"text\":\"Profit\"}},\"yaxis\":{\"anchor\":\"x\",\"domain\":[0.0,1.0],\"title\":{\"text\":\"Quantity\"}},\"legend\":{\"title\":{\"text\":\"Customer\"},\"tracegroupgap\":0,\"itemsizing\":\"constant\"},\"title\":{\"text\":\"Packed Bubble Chart\"}},                        {\"responsive\": true}                    ).then(function(){\n",
       "                            \n",
       "var gd = document.getElementById('fd517f53-67d9-42cb-bef4-271755c1ff05');\n",
       "var x = new MutationObserver(function (mutations, observer) {{\n",
       "        var display = window.getComputedStyle(gd).display;\n",
       "        if (!display || display === 'none') {{\n",
       "            console.log([gd, 'removed!']);\n",
       "            Plotly.purge(gd);\n",
       "            observer.disconnect();\n",
       "        }}\n",
       "}});\n",
       "\n",
       "// Listen for the removal of the full notebook cells\n",
       "var notebookContainer = gd.closest('#notebook-container');\n",
       "if (notebookContainer) {{\n",
       "    x.observe(notebookContainer, {childList: true});\n",
       "}}\n",
       "\n",
       "// Listen for the clearing of the current output cell\n",
       "var outputEl = gd.closest('.output');\n",
       "if (outputEl) {{\n",
       "    x.observe(outputEl, {childList: true});\n",
       "}}\n",
       "\n",
       "                        })                };                });            </script>        </div>"
      ]
     },
     "metadata": {},
     "output_type": "display_data"
    }
   ],
   "source": [
    "df_quan_filter_reset = df_quan_filter_round.reset_index()\n",
    "\n",
    "fig = px.scatter(\n",
    "    df_quan_filter_reset,\n",
    "    x='Profit',\n",
    "    y='Quantity',\n",
    "    size='Profit',\n",
    "    color='Customer',\n",
    "    template='plotly_white',\n",
    "    title='Packed Bubble Chart',\n",
    "    text='Customer'\n",
    ")\n",
    "\n",
    "fig.update_traces(marker=dict(size=6 * fig.data[0].marker.size))\n",
    "# Menampilkan chart\n",
    "fig.show()"
   ]
  },
  {
   "cell_type": "markdown",
   "id": "c7b54fbd",
   "metadata": {},
   "source": [
    "Dari grafik scatterplot diatas alphabet adalah customer yang paling sedikit membeli quantity barang tetapi memberikan profit diatas rata-rata"
   ]
  },
  {
   "cell_type": "markdown",
   "id": "5c344113",
   "metadata": {},
   "source": [
    "## Kesimpulan\n",
    "\n",
    "Dari analisis yang telah dilakukan, dapat disimpulkan bahwa :\n",
    "\n",
    "1. Jepang merupakan negara yang memiliki kerugian terbesar dibanding negara-negara lainnya, hal tersebut dikarenakan penjualan produk Contact Matcher, OneView, SaaS Connector, Big OI Database, Marketing Suite, FinanceHub, & Marketing Suite Gold.\n",
    "\n",
    "2. Discount yang diberlakukan pada produk-produk di negara jepang tidak menghasilkan repeat order dari customer. Hal tersebut dapat membahayakan perusahaan dalam jangka panjang karena akan mengakibatkan kerugian finansial. \n",
    "\n",
    "3. Produk Alchemy secara global adalah produk yang paling profitable karena dapat menghasilkan profit diatas rata-rata dengan jumlah penjualan yang sedikit / dibawah rata-rata. dapat diartika setiap transaksi yang dilakukan memberikan profit yang tinggi\n",
    "\n",
    "4. Terdapat 7 Customer yang memberikan profit diatas rata-rata tetapi quantitas barang yang dibeli sangat sedikit yaitu Alphabet, Glencore, Coca-Cola, Sysco, Philip 66, United Parcel Service, & Apple.\n",
    "\n",
    "\n",
    "## Rekomendasi\n",
    "\n",
    "1. untuk mengurangi kerugian perusahaan harus mengurangi atau menghentikan discount di negara jepang untuk produk Contact Matcher, OneView, SaaS Connector, Big OI Database, Marketing Suite, FinanceHub, & Marketing Suite Gold.\n",
    "\n",
    "2. Budged diskon negara jepang lebih baik dialokasikanpada pembuatan produk yang lebih berkualiatas atau cocok dengan selera pasar di jepang, sehingga di masa depan ketika produk sudah siap dijual maka dilakukan kembali penetrasi pasar (baik secara masif atau parsial) menyesuaikan keadaan pasar di masa tersebut.\n",
    "\n",
    "3. Untuk Produk Alchemy akan lebih baik jika diskon produk tersebut ditingkatkan sehingga permintaan dapat meningkat, harapannya dalam jangka panjang dapat menguasai capital market yang lebih luas.\n",
    "\n",
    "4. Para consumer yang telah menghasilkan profit tinggi sebaiknya diberi kelas khusus untuk mendapatkan diskon atau pelayanan tersendiri. sehingga kedepannya repeat order para consumer tersebut dapat lebih awet."
   ]
  }
 ],
 "metadata": {
  "kernelspec": {
   "display_name": "Python 3 (ipykernel)",
   "language": "python",
   "name": "python3"
  },
  "language_info": {
   "codemirror_mode": {
    "name": "ipython",
    "version": 3
   },
   "file_extension": ".py",
   "mimetype": "text/x-python",
   "name": "python",
   "nbconvert_exporter": "python",
   "pygments_lexer": "ipython3",
   "version": "3.9.13"
  }
 },
 "nbformat": 4,
 "nbformat_minor": 5
}
